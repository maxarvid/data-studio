{
 "cells": [
  {
   "cell_type": "code",
   "execution_count": 47,
   "metadata": {},
   "outputs": [],
   "source": [
    "import pandas as pd\n",
    "\n",
    "%matplotlib inline"
   ]
  },
  {
   "cell_type": "code",
   "execution_count": 10,
   "metadata": {},
   "outputs": [],
   "source": [
    "df = pd.read_csv('company-responses--business-human-rights-resource-Centre.csv', delimiter=';')"
   ]
  },
  {
   "cell_type": "code",
   "execution_count": 11,
   "metadata": {},
   "outputs": [
    {
     "data": {
      "text/plain": [
       "(3731, 12)"
      ]
     },
     "execution_count": 11,
     "metadata": {},
     "output_type": "execute_result"
    }
   ],
   "source": [
    "df.shape"
   ]
  },
  {
   "cell_type": "code",
   "execution_count": 12,
   "metadata": {},
   "outputs": [
    {
     "data": {
      "text/html": [
       "<div>\n",
       "<style scoped>\n",
       "    .dataframe tbody tr th:only-of-type {\n",
       "        vertical-align: middle;\n",
       "    }\n",
       "\n",
       "    .dataframe tbody tr th {\n",
       "        vertical-align: top;\n",
       "    }\n",
       "\n",
       "    .dataframe thead th {\n",
       "        text-align: right;\n",
       "    }\n",
       "</style>\n",
       "<table border=\"1\" class=\"dataframe\">\n",
       "  <thead>\n",
       "    <tr style=\"text-align: right;\">\n",
       "      <th></th>\n",
       "      <th>Company name</th>\n",
       "      <th>Sector</th>\n",
       "      <th>Country headquarters</th>\n",
       "      <th>Country of alleged abuses</th>\n",
       "      <th>Day</th>\n",
       "      <th>Month</th>\n",
       "      <th>Year</th>\n",
       "      <th>Summary</th>\n",
       "      <th>Issue</th>\n",
       "      <th>Responded</th>\n",
       "      <th>Link to company response</th>\n",
       "      <th>Link to company page</th>\n",
       "    </tr>\n",
       "  </thead>\n",
       "  <tbody>\n",
       "    <tr>\n",
       "      <th>0</th>\n",
       "      <td>7NG</td>\n",
       "      <td>Agriculture &amp; livestock</td>\n",
       "      <td>Cambodia</td>\n",
       "      <td>Cambodia</td>\n",
       "      <td>24</td>\n",
       "      <td>Jan</td>\n",
       "      <td>2009</td>\n",
       "      <td>Evictions at Dey Krahorm in Phnom Penh, Cambodia</td>\n",
       "      <td>Displacement</td>\n",
       "      <td>No</td>\n",
       "      <td>https://www.business-humanrights.org/en/7ng-di...</td>\n",
       "      <td>https://www.business-humanrights.org/en/7ng</td>\n",
       "    </tr>\n",
       "    <tr>\n",
       "      <th>1</th>\n",
       "      <td>A.P. Moller - Maersk Group</td>\n",
       "      <td>Shipping, ship-building &amp; ship-scrapping</td>\n",
       "      <td>Denmark</td>\n",
       "      <td>India</td>\n",
       "      <td>24</td>\n",
       "      <td>Oct</td>\n",
       "      <td>2016</td>\n",
       "      <td>Report highlights unsafe practices at Maersk's...</td>\n",
       "      <td>Health: General (including workplace health &amp; ...</td>\n",
       "      <td>Yes</td>\n",
       "      <td>https://www.business-humanrights.org/en/maersk...</td>\n",
       "      <td>https://www.business-humanrights.org/en/ap-mol...</td>\n",
       "    </tr>\n",
       "  </tbody>\n",
       "</table>\n",
       "</div>"
      ],
      "text/plain": [
       "                 Company name                                    Sector  \\\n",
       "0                         7NG                   Agriculture & livestock   \n",
       "1  A.P. Moller - Maersk Group  Shipping, ship-building & ship-scrapping   \n",
       "\n",
       "  Country headquarters Country of alleged abuses  Day Month  Year  \\\n",
       "0             Cambodia                  Cambodia   24   Jan  2009   \n",
       "1              Denmark                     India   24   Oct  2016   \n",
       "\n",
       "                                             Summary  \\\n",
       "0   Evictions at Dey Krahorm in Phnom Penh, Cambodia   \n",
       "1  Report highlights unsafe practices at Maersk's...   \n",
       "\n",
       "                                               Issue Responded  \\\n",
       "0                                       Displacement        No   \n",
       "1  Health: General (including workplace health & ...       Yes   \n",
       "\n",
       "                            Link to company response  \\\n",
       "0  https://www.business-humanrights.org/en/7ng-di...   \n",
       "1  https://www.business-humanrights.org/en/maersk...   \n",
       "\n",
       "                                Link to company page  \n",
       "0        https://www.business-humanrights.org/en/7ng  \n",
       "1  https://www.business-humanrights.org/en/ap-mol...  "
      ]
     },
     "execution_count": 12,
     "metadata": {},
     "output_type": "execute_result"
    }
   ],
   "source": [
    "df.head(2)"
   ]
  },
  {
   "cell_type": "code",
   "execution_count": 13,
   "metadata": {},
   "outputs": [
    {
     "data": {
      "text/plain": [
       "Index(['Company name', 'Sector', 'Country headquarters',\n",
       "       'Country of alleged abuses', 'Day', 'Month', 'Year', 'Summary', 'Issue',\n",
       "       'Responded', 'Link to company response', 'Link to company page'],\n",
       "      dtype='object')"
      ]
     },
     "execution_count": 13,
     "metadata": {},
     "output_type": "execute_result"
    }
   ],
   "source": [
    "df.columns"
   ]
  },
  {
   "cell_type": "code",
   "execution_count": 30,
   "metadata": {},
   "outputs": [
    {
     "data": {
      "text/plain": [
       "Yes    23\n",
       "No      8\n",
       "Name: Responded, dtype: int64"
      ]
     },
     "execution_count": 30,
     "metadata": {},
     "output_type": "execute_result"
    }
   ],
   "source": [
    "df[df.Sector == 'Internet & social media'].Responded.value_counts()"
   ]
  },
  {
   "cell_type": "code",
   "execution_count": 31,
   "metadata": {},
   "outputs": [
    {
     "data": {
      "text/plain": [
       "Yes    195\n",
       "No      83\n",
       "Name: Responded, dtype: int64"
      ]
     },
     "execution_count": 31,
     "metadata": {},
     "output_type": "execute_result"
    }
   ],
   "source": [
    "df[df.Sector == 'Technology, telecom & electronics'].Responded.value_counts()"
   ]
  },
  {
   "cell_type": "code",
   "execution_count": 32,
   "metadata": {},
   "outputs": [
    {
     "data": {
      "text/plain": [
       "Yes    326\n",
       "No      83\n",
       "Name: Responded, dtype: int64"
      ]
     },
     "execution_count": 32,
     "metadata": {},
     "output_type": "execute_result"
    }
   ],
   "source": [
    "df[df.Sector == 'Mining'].Responded.value_counts()"
   ]
  },
  {
   "cell_type": "code",
   "execution_count": 33,
   "metadata": {},
   "outputs": [
    {
     "data": {
      "text/plain": [
       "Yes    302\n",
       "No     125\n",
       "Name: Responded, dtype: int64"
      ]
     },
     "execution_count": 33,
     "metadata": {},
     "output_type": "execute_result"
    }
   ],
   "source": [
    "df[df.Sector == 'Oil, gas & coal'].Responded.value_counts()"
   ]
  },
  {
   "cell_type": "code",
   "execution_count": 37,
   "metadata": {
    "scrolled": true
   },
   "outputs": [
    {
     "data": {
      "text/plain": [
       "Yes    218\n",
       "No      91\n",
       "Name: Responded, dtype: int64"
      ]
     },
     "execution_count": 37,
     "metadata": {},
     "output_type": "execute_result"
    }
   ],
   "source": [
    "df[(df.Sector == 'Technology, telecom & electronics')|(df.Sector == 'Internet & social media')].Responded.value_counts()"
   ]
  },
  {
   "cell_type": "code",
   "execution_count": 39,
   "metadata": {},
   "outputs": [
    {
     "data": {
      "text/html": [
       "<div>\n",
       "<style scoped>\n",
       "    .dataframe tbody tr th:only-of-type {\n",
       "        vertical-align: middle;\n",
       "    }\n",
       "\n",
       "    .dataframe tbody tr th {\n",
       "        vertical-align: top;\n",
       "    }\n",
       "\n",
       "    .dataframe thead th {\n",
       "        text-align: right;\n",
       "    }\n",
       "</style>\n",
       "<table border=\"1\" class=\"dataframe\">\n",
       "  <thead>\n",
       "    <tr style=\"text-align: right;\">\n",
       "      <th></th>\n",
       "      <th>Company name</th>\n",
       "      <th>Sector</th>\n",
       "      <th>Country headquarters</th>\n",
       "      <th>Country of alleged abuses</th>\n",
       "      <th>Day</th>\n",
       "      <th>Month</th>\n",
       "      <th>Year</th>\n",
       "      <th>Summary</th>\n",
       "      <th>Issue</th>\n",
       "      <th>Responded</th>\n",
       "      <th>Link to company response</th>\n",
       "      <th>Link to company page</th>\n",
       "    </tr>\n",
       "  </thead>\n",
       "  <tbody>\n",
       "    <tr>\n",
       "      <th>267</th>\n",
       "      <td>Apple</td>\n",
       "      <td>Technology, telecom &amp; electronics</td>\n",
       "      <td>USA</td>\n",
       "      <td>Philippines</td>\n",
       "      <td>13</td>\n",
       "      <td>Aug</td>\n",
       "      <td>2014</td>\n",
       "      <td>NXP Semiconductors, a supplier to Apple, accus...</td>\n",
       "      <td>Denial of freedom of association (see Labour: ...</td>\n",
       "      <td>No</td>\n",
       "      <td>https://www.business-humanrights.org/en/apple-...</td>\n",
       "      <td>https://www.business-humanrights.org/en/apple</td>\n",
       "    </tr>\n",
       "    <tr>\n",
       "      <th>268</th>\n",
       "      <td>Apple</td>\n",
       "      <td>Technology, telecom &amp; electronics</td>\n",
       "      <td>USA</td>\n",
       "      <td>USA</td>\n",
       "      <td>25</td>\n",
       "      <td>Feb</td>\n",
       "      <td>2014</td>\n",
       "      <td>USA: Investment analyst Ronnie Moas downgrades...</td>\n",
       "      <td>Socially-responsible investing &amp; shareholder a...</td>\n",
       "      <td>No</td>\n",
       "      <td>https://www.business-humanrights.org/en/apple-...</td>\n",
       "      <td>https://www.business-humanrights.org/en/apple</td>\n",
       "    </tr>\n",
       "    <tr>\n",
       "      <th>269</th>\n",
       "      <td>Apple</td>\n",
       "      <td>Technology, telecom &amp; electronics</td>\n",
       "      <td>USA</td>\n",
       "      <td>USA</td>\n",
       "      <td>10</td>\n",
       "      <td>Jul</td>\n",
       "      <td>2013</td>\n",
       "      <td>Human Rights First letter and Vigeo statement ...</td>\n",
       "      <td>NaN</td>\n",
       "      <td>No</td>\n",
       "      <td>https://www.business-humanrights.org/en/apple-...</td>\n",
       "      <td>https://www.business-humanrights.org/en/apple</td>\n",
       "    </tr>\n",
       "    <tr>\n",
       "      <th>270</th>\n",
       "      <td>Apple</td>\n",
       "      <td>Technology, telecom &amp; electronics</td>\n",
       "      <td>USA</td>\n",
       "      <td>NaN</td>\n",
       "      <td>8</td>\n",
       "      <td>May</td>\n",
       "      <td>2013</td>\n",
       "      <td>AFL-CIO report on failures of social audits &amp; ...</td>\n",
       "      <td>NaN</td>\n",
       "      <td>No</td>\n",
       "      <td>https://www.business-humanrights.org/en/apple-...</td>\n",
       "      <td>https://www.business-humanrights.org/en/apple</td>\n",
       "    </tr>\n",
       "    <tr>\n",
       "      <th>271</th>\n",
       "      <td>Apple</td>\n",
       "      <td>Technology, telecom &amp; electronics</td>\n",
       "      <td>USA</td>\n",
       "      <td>China</td>\n",
       "      <td>27</td>\n",
       "      <td>Feb</td>\n",
       "      <td>2013</td>\n",
       "      <td>China Labor Watch submission to UN Working Gro...</td>\n",
       "      <td>Labour: General</td>\n",
       "      <td>No</td>\n",
       "      <td>https://www.business-humanrights.org/en/apple-...</td>\n",
       "      <td>https://www.business-humanrights.org/en/apple</td>\n",
       "    </tr>\n",
       "    <tr>\n",
       "      <th>272</th>\n",
       "      <td>Apple</td>\n",
       "      <td>Technology, telecom &amp; electronics</td>\n",
       "      <td>USA</td>\n",
       "      <td>China</td>\n",
       "      <td>27</td>\n",
       "      <td>Nov</td>\n",
       "      <td>2012</td>\n",
       "      <td>China: SACOM alleges ongoing hazardous working...</td>\n",
       "      <td>Health: General (including workplace health &amp; ...</td>\n",
       "      <td>No</td>\n",
       "      <td>https://www.business-humanrights.org/en/apple-...</td>\n",
       "      <td>https://www.business-humanrights.org/en/apple</td>\n",
       "    </tr>\n",
       "    <tr>\n",
       "      <th>273</th>\n",
       "      <td>Apple</td>\n",
       "      <td>Technology, telecom &amp; electronics</td>\n",
       "      <td>USA</td>\n",
       "      <td>USA</td>\n",
       "      <td>11</td>\n",
       "      <td>Jul</td>\n",
       "      <td>2012</td>\n",
       "      <td>USA: National Iranian American Council alleges...</td>\n",
       "      <td>Racial/ethnic/caste/origin discrimination</td>\n",
       "      <td>No</td>\n",
       "      <td>https://www.business-humanrights.org/en/apple-...</td>\n",
       "      <td>https://www.business-humanrights.org/en/apple</td>\n",
       "    </tr>\n",
       "    <tr>\n",
       "      <th>274</th>\n",
       "      <td>Apple</td>\n",
       "      <td>Technology, telecom &amp; electronics</td>\n",
       "      <td>USA</td>\n",
       "      <td>China</td>\n",
       "      <td>30</td>\n",
       "      <td>Jan</td>\n",
       "      <td>2012</td>\n",
       "      <td>SumofUs.org online petition asks Apple to refo...</td>\n",
       "      <td>Labour: General</td>\n",
       "      <td>Yes</td>\n",
       "      <td>https://www.business-humanrights.org/en/apple-...</td>\n",
       "      <td>https://www.business-humanrights.org/en/apple</td>\n",
       "    </tr>\n",
       "    <tr>\n",
       "      <th>275</th>\n",
       "      <td>Apple</td>\n",
       "      <td>Technology, telecom &amp; electronics</td>\n",
       "      <td>USA</td>\n",
       "      <td>China</td>\n",
       "      <td>25</td>\n",
       "      <td>Jan</td>\n",
       "      <td>2012</td>\n",
       "      <td>Daily Ticker says Apple can afford to pay supp...</td>\n",
       "      <td>Labour: General</td>\n",
       "      <td>No</td>\n",
       "      <td>https://www.business-humanrights.org/en/apple-...</td>\n",
       "      <td>https://www.business-humanrights.org/en/apple</td>\n",
       "    </tr>\n",
       "    <tr>\n",
       "      <th>276</th>\n",
       "      <td>Apple</td>\n",
       "      <td>Technology, telecom &amp; electronics</td>\n",
       "      <td>USA</td>\n",
       "      <td>China</td>\n",
       "      <td>14</td>\n",
       "      <td>Dec</td>\n",
       "      <td>2011</td>\n",
       "      <td>Main driver of Apple's alleged polluting suppl...</td>\n",
       "      <td>Environment: General</td>\n",
       "      <td>No</td>\n",
       "      <td>https://www.business-humanrights.org/en/apple-...</td>\n",
       "      <td>https://www.business-humanrights.org/en/apple</td>\n",
       "    </tr>\n",
       "    <tr>\n",
       "      <th>277</th>\n",
       "      <td>Apple</td>\n",
       "      <td>Technology, telecom &amp; electronics</td>\n",
       "      <td>USA</td>\n",
       "      <td>China</td>\n",
       "      <td>28</td>\n",
       "      <td>Sep</td>\n",
       "      <td>2011</td>\n",
       "      <td>Allegations of pollution in Apple's supply cha...</td>\n",
       "      <td>Environment: General | Labour: General | Suppl...</td>\n",
       "      <td>Yes</td>\n",
       "      <td>https://www.business-humanrights.org/en/respon...</td>\n",
       "      <td>https://www.business-humanrights.org/en/apple</td>\n",
       "    </tr>\n",
       "    <tr>\n",
       "      <th>278</th>\n",
       "      <td>Apple</td>\n",
       "      <td>Technology, telecom &amp; electronics</td>\n",
       "      <td>USA</td>\n",
       "      <td>China</td>\n",
       "      <td>10</td>\n",
       "      <td>Nov</td>\n",
       "      <td>2010</td>\n",
       "      <td>Company responses regarding NGO report on poll...</td>\n",
       "      <td>Environment: General | Access to water</td>\n",
       "      <td>No</td>\n",
       "      <td>https://www.business-humanrights.org/en/apple-...</td>\n",
       "      <td>https://www.business-humanrights.org/en/apple</td>\n",
       "    </tr>\n",
       "    <tr>\n",
       "      <th>279</th>\n",
       "      <td>Apple</td>\n",
       "      <td>Technology, telecom &amp; electronics</td>\n",
       "      <td>USA</td>\n",
       "      <td>China</td>\n",
       "      <td>14</td>\n",
       "      <td>Jul</td>\n",
       "      <td>2010</td>\n",
       "      <td>Company responses regarding NGO report on poll...</td>\n",
       "      <td>Environment: General | Access to water</td>\n",
       "      <td>Yes</td>\n",
       "      <td>https://www.business-humanrights.org/en/respon...</td>\n",
       "      <td>https://www.business-humanrights.org/en/apple</td>\n",
       "    </tr>\n",
       "    <tr>\n",
       "      <th>280</th>\n",
       "      <td>Apple</td>\n",
       "      <td>Technology, telecom &amp; electronics</td>\n",
       "      <td>USA</td>\n",
       "      <td>NaN</td>\n",
       "      <td>18</td>\n",
       "      <td>Apr</td>\n",
       "      <td>2007</td>\n",
       "      <td>Apple &amp; environmental issues</td>\n",
       "      <td>NaN</td>\n",
       "      <td>Yes</td>\n",
       "      <td>https://www.business-humanrights.org/en/respon...</td>\n",
       "      <td>https://www.business-humanrights.org/en/apple</td>\n",
       "    </tr>\n",
       "    <tr>\n",
       "      <th>281</th>\n",
       "      <td>Apple</td>\n",
       "      <td>Technology, telecom &amp; electronics</td>\n",
       "      <td>USA</td>\n",
       "      <td>China</td>\n",
       "      <td>30</td>\n",
       "      <td>Aug</td>\n",
       "      <td>2006</td>\n",
       "      <td>China: Apple's iPod supplier Foxconn drops def...</td>\n",
       "      <td>Denial of freedom of expression | Labour: Gene...</td>\n",
       "      <td>Yes</td>\n",
       "      <td>https://www.business-humanrights.org/en/respon...</td>\n",
       "      <td>https://www.business-humanrights.org/en/apple</td>\n",
       "    </tr>\n",
       "  </tbody>\n",
       "</table>\n",
       "</div>"
      ],
      "text/plain": [
       "    Company name                             Sector Country headquarters  \\\n",
       "267        Apple  Technology, telecom & electronics                  USA   \n",
       "268        Apple  Technology, telecom & electronics                  USA   \n",
       "269        Apple  Technology, telecom & electronics                  USA   \n",
       "270        Apple  Technology, telecom & electronics                  USA   \n",
       "271        Apple  Technology, telecom & electronics                  USA   \n",
       "272        Apple  Technology, telecom & electronics                  USA   \n",
       "273        Apple  Technology, telecom & electronics                  USA   \n",
       "274        Apple  Technology, telecom & electronics                  USA   \n",
       "275        Apple  Technology, telecom & electronics                  USA   \n",
       "276        Apple  Technology, telecom & electronics                  USA   \n",
       "277        Apple  Technology, telecom & electronics                  USA   \n",
       "278        Apple  Technology, telecom & electronics                  USA   \n",
       "279        Apple  Technology, telecom & electronics                  USA   \n",
       "280        Apple  Technology, telecom & electronics                  USA   \n",
       "281        Apple  Technology, telecom & electronics                  USA   \n",
       "\n",
       "    Country of alleged abuses  Day Month  Year  \\\n",
       "267               Philippines   13   Aug  2014   \n",
       "268                       USA   25   Feb  2014   \n",
       "269                       USA   10   Jul  2013   \n",
       "270                       NaN    8   May  2013   \n",
       "271                     China   27   Feb  2013   \n",
       "272                     China   27   Nov  2012   \n",
       "273                       USA   11   Jul  2012   \n",
       "274                     China   30   Jan  2012   \n",
       "275                     China   25   Jan  2012   \n",
       "276                     China   14   Dec  2011   \n",
       "277                     China   28   Sep  2011   \n",
       "278                     China   10   Nov  2010   \n",
       "279                     China   14   Jul  2010   \n",
       "280                       NaN   18   Apr  2007   \n",
       "281                     China   30   Aug  2006   \n",
       "\n",
       "                                               Summary  \\\n",
       "267  NXP Semiconductors, a supplier to Apple, accus...   \n",
       "268  USA: Investment analyst Ronnie Moas downgrades...   \n",
       "269  Human Rights First letter and Vigeo statement ...   \n",
       "270  AFL-CIO report on failures of social audits & ...   \n",
       "271  China Labor Watch submission to UN Working Gro...   \n",
       "272  China: SACOM alleges ongoing hazardous working...   \n",
       "273  USA: National Iranian American Council alleges...   \n",
       "274  SumofUs.org online petition asks Apple to refo...   \n",
       "275  Daily Ticker says Apple can afford to pay supp...   \n",
       "276  Main driver of Apple's alleged polluting suppl...   \n",
       "277  Allegations of pollution in Apple's supply cha...   \n",
       "278  Company responses regarding NGO report on poll...   \n",
       "279  Company responses regarding NGO report on poll...   \n",
       "280                       Apple & environmental issues   \n",
       "281  China: Apple's iPod supplier Foxconn drops def...   \n",
       "\n",
       "                                                 Issue Responded  \\\n",
       "267  Denial of freedom of association (see Labour: ...        No   \n",
       "268  Socially-responsible investing & shareholder a...        No   \n",
       "269                                                NaN        No   \n",
       "270                                                NaN        No   \n",
       "271                                    Labour: General        No   \n",
       "272  Health: General (including workplace health & ...        No   \n",
       "273          Racial/ethnic/caste/origin discrimination        No   \n",
       "274                                    Labour: General       Yes   \n",
       "275                                    Labour: General        No   \n",
       "276                               Environment: General        No   \n",
       "277  Environment: General | Labour: General | Suppl...       Yes   \n",
       "278             Environment: General | Access to water        No   \n",
       "279             Environment: General | Access to water       Yes   \n",
       "280                                                NaN       Yes   \n",
       "281  Denial of freedom of expression | Labour: Gene...       Yes   \n",
       "\n",
       "                              Link to company response  \\\n",
       "267  https://www.business-humanrights.org/en/apple-...   \n",
       "268  https://www.business-humanrights.org/en/apple-...   \n",
       "269  https://www.business-humanrights.org/en/apple-...   \n",
       "270  https://www.business-humanrights.org/en/apple-...   \n",
       "271  https://www.business-humanrights.org/en/apple-...   \n",
       "272  https://www.business-humanrights.org/en/apple-...   \n",
       "273  https://www.business-humanrights.org/en/apple-...   \n",
       "274  https://www.business-humanrights.org/en/apple-...   \n",
       "275  https://www.business-humanrights.org/en/apple-...   \n",
       "276  https://www.business-humanrights.org/en/apple-...   \n",
       "277  https://www.business-humanrights.org/en/respon...   \n",
       "278  https://www.business-humanrights.org/en/apple-...   \n",
       "279  https://www.business-humanrights.org/en/respon...   \n",
       "280  https://www.business-humanrights.org/en/respon...   \n",
       "281  https://www.business-humanrights.org/en/respon...   \n",
       "\n",
       "                              Link to company page  \n",
       "267  https://www.business-humanrights.org/en/apple  \n",
       "268  https://www.business-humanrights.org/en/apple  \n",
       "269  https://www.business-humanrights.org/en/apple  \n",
       "270  https://www.business-humanrights.org/en/apple  \n",
       "271  https://www.business-humanrights.org/en/apple  \n",
       "272  https://www.business-humanrights.org/en/apple  \n",
       "273  https://www.business-humanrights.org/en/apple  \n",
       "274  https://www.business-humanrights.org/en/apple  \n",
       "275  https://www.business-humanrights.org/en/apple  \n",
       "276  https://www.business-humanrights.org/en/apple  \n",
       "277  https://www.business-humanrights.org/en/apple  \n",
       "278  https://www.business-humanrights.org/en/apple  \n",
       "279  https://www.business-humanrights.org/en/apple  \n",
       "280  https://www.business-humanrights.org/en/apple  \n",
       "281  https://www.business-humanrights.org/en/apple  "
      ]
     },
     "execution_count": 39,
     "metadata": {},
     "output_type": "execute_result"
    }
   ],
   "source": [
    "df[df['Company name'] == 'Apple']"
   ]
  },
  {
   "cell_type": "code",
   "execution_count": 36,
   "metadata": {
    "scrolled": false
   },
   "outputs": [
    {
     "data": {
      "text/html": [
       "<div>\n",
       "<style scoped>\n",
       "    .dataframe tbody tr th:only-of-type {\n",
       "        vertical-align: middle;\n",
       "    }\n",
       "\n",
       "    .dataframe tbody tr th {\n",
       "        vertical-align: top;\n",
       "    }\n",
       "\n",
       "    .dataframe thead th {\n",
       "        text-align: right;\n",
       "    }\n",
       "</style>\n",
       "<table border=\"1\" class=\"dataframe\">\n",
       "  <thead>\n",
       "    <tr style=\"text-align: right;\">\n",
       "      <th></th>\n",
       "      <th>Company name</th>\n",
       "      <th>Sector</th>\n",
       "      <th>Country headquarters</th>\n",
       "      <th>Country of alleged abuses</th>\n",
       "      <th>Day</th>\n",
       "      <th>Month</th>\n",
       "      <th>Year</th>\n",
       "      <th>Summary</th>\n",
       "      <th>Issue</th>\n",
       "      <th>Responded</th>\n",
       "      <th>Link to company response</th>\n",
       "      <th>Link to company page</th>\n",
       "    </tr>\n",
       "  </thead>\n",
       "  <tbody>\n",
       "    <tr>\n",
       "      <th>1739</th>\n",
       "      <td>Henan Rebecca</td>\n",
       "      <td>Wigs</td>\n",
       "      <td>China</td>\n",
       "      <td>China</td>\n",
       "      <td>23</td>\n",
       "      <td>Aug</td>\n",
       "      <td>2005</td>\n",
       "      <td>6 banks listed among top shareholders of Chine...</td>\n",
       "      <td>Labour: General | Prison labour</td>\n",
       "      <td>Yes</td>\n",
       "      <td>https://www.business-humanrights.org/en/the-an...</td>\n",
       "      <td>https://www.business-humanrights.org/en/henan-...</td>\n",
       "    </tr>\n",
       "  </tbody>\n",
       "</table>\n",
       "</div>"
      ],
      "text/plain": [
       "       Company name Sector Country headquarters Country of alleged abuses  \\\n",
       "1739  Henan Rebecca   Wigs                China                     China   \n",
       "\n",
       "      Day Month  Year                                            Summary  \\\n",
       "1739   23   Aug  2005  6 banks listed among top shareholders of Chine...   \n",
       "\n",
       "                                Issue Responded  \\\n",
       "1739  Labour: General | Prison labour       Yes   \n",
       "\n",
       "                               Link to company response  \\\n",
       "1739  https://www.business-humanrights.org/en/the-an...   \n",
       "\n",
       "                                   Link to company page  \n",
       "1739  https://www.business-humanrights.org/en/henan-...  "
      ]
     },
     "execution_count": 36,
     "metadata": {},
     "output_type": "execute_result"
    }
   ],
   "source": [
    "df[df.Sector == 'Wigs']"
   ]
  },
  {
   "cell_type": "code",
   "execution_count": 20,
   "metadata": {
    "scrolled": true
   },
   "outputs": [
    {
     "data": {
      "text/plain": [
       "Oil, gas & coal                                                                                                                                                                                                                                             427\n",
       "Mining                                                                                                                                                                                                                                                      409\n",
       "Technology, telecom & electronics                                                                                                                                                                                                                           278\n",
       "Finance & banking                                                                                                                                                                                                                                           254\n",
       "Clothing & textile                                                                                                                                                                                                                                          247\n",
       "Food & beverage                                                                                                                                                                                                                                             166\n",
       "Energy                                                                                                                                                                                                                                                      142\n",
       "Agriculture & livestock                                                                                                                                                                                                                                      81\n",
       "Pharmaceutical                                                                                                                                                                                                                                               74\n",
       "Metals & steel                                                                                                                                                                                                                                               70\n",
       "Automobile & other motor vehicles                                                                                                                                                                                                                            65\n",
       "Security companies                                                                                                                                                                                                                                           64\n",
       "Retail                                                                                                                                                                                                                                                       56\n",
       "Construction                                                                                                                                                                                                                                                 55\n",
       "Chemical: General                                                                                                                                                                                                                                            51\n",
       "Diversified/Conglomerates                                                                                                                                                                                                                                    45\n",
       "Metals & steel | Mining                                                                                                                                                                                                                                      36\n",
       "Insurance                                                                                                                                                                                                                                                    33\n",
       "Internet & social media                                                                                                                                                                                                                                      31\n",
       "Footwear                                                                                                                                                                                                                                                     31\n",
       "Supermarkets & grocery                                                                                                                                                                                                                                       29\n",
       "Cement                                                                                                                                                                                                                                                       27\n",
       "Aircraft/Airline                                                                                                                                                                                                                                             25\n",
       "Hydropower & dam projects                                                                                                                                                                                                                                    25\n",
       "Metals & steel | Mining | Oil, gas & coal                                                                                                                                                                                                                    25\n",
       "Diamond                                                                                                                                                                                                                                                      23\n",
       "Hotel                                                                                                                                                                                                                                                        21\n",
       "Clothing & textile | Footwear | Retail | Sporting goods                                                                                                                                                                                                      21\n",
       "Engineering                                                                                                                                                                                                                                                  20\n",
       "Auditing, consulting & accounting                                                                                                                                                                                                                            17\n",
       "                                                                                                                                                                                                                                                           ... \n",
       "Agricultural machinery | Metals & steel                                                                                                                                                                                                                       1\n",
       "Cruise ship | Tourism                                                                                                                                                                                                                                         1\n",
       "Catering & food services                                                                                                                                                                                                                                      1\n",
       "Wind energy                                                                                                                                                                                                                                                   1\n",
       "Engineering | Technology, telecom & electronics                                                                                                                                                                                                               1\n",
       "Cruise ship                                                                                                                                                                                                                                                   1\n",
       "Metals & steel | Mining | Energy                                                                                                                                                                                                                              1\n",
       "Manufacturing: General | Real estate sales                                                                                                                                                                                                                    1\n",
       "Chemical: General | Engineering                                                                                                                                                                                                                               1\n",
       "Diversified/Conglomerates | Construction | Tourism | Energy                                                                                                                                                                                                   1\n",
       "Agriculture & livestock | Aircraft/Airline                                                                                                                                                                                                                    1\n",
       "Rubber                                                                                                                                                                                                                                                        1\n",
       "Mining | Sand                                                                                                                                                                                                                                                 1\n",
       "Railroad                                                                                                                                                                                                                                                      1\n",
       "Wigs                                                                                                                                                                                                                                                          1\n",
       "Clothing & textile | Perfume | Retail                                                                                                                                                                                                                         1\n",
       "Diversified/Conglomerates | Cement | Real estate sales | Ports | Energy                                                                                                                                                                                       1\n",
       "Manufacturing: General | Engineering | Energy                                                                                                                                                                                                                 1\n",
       "Food & beverage | Diversified/Conglomerates | Finance & banking | Property development | Property management | Real estate sales | Education companies | Freight handling | Shipping, ship-building & ship-scrapping | Technology, telecom & electronics      1\n",
       "Agriculture & livestock | Food & beverage | Palm trees & oil | Toiletries & soap                                                                                                                                                                              1\n",
       "Food & beverage | Diversified/Conglomerates                                                                                                                                                                                                                   1\n",
       "Leather & tanneries                                                                                                                                                                                                                                           1\n",
       "Construction | Mining | Engineering | Transport: General | Railroad                                                                                                                                                                                           1\n",
       "Perfume | Luggage, backpacks & bags | Jewellery | Watch & clock | Hotel                                                                                                                                                                                       1\n",
       "Agriculture & livestock | Bioenergy | Food & beverage | Sugar | Diversified/Conglomerates | Ceramics | Insurance | Media & publishing: General | Logging & lumber | Sports teams, clubs & leagues | Automobile & other motor vehicles                         1\n",
       "Jewellery | Diamond                                                                                                                                                                                                                                           1\n",
       "Diversified/Conglomerates | Insurance                                                                                                                                                                                                                         1\n",
       "Manufacturing: General | Metals & steel | Technology, telecom & electronics                                                                                                                                                                                   1\n",
       "Household products                                                                                                                                                                                                                                            1\n",
       "Construction | Road-building | Oil, gas & coal | Energy                                                                                                                                                                                                       1\n",
       "Name: Sector, Length: 272, dtype: int64"
      ]
     },
     "execution_count": 20,
     "metadata": {},
     "output_type": "execute_result"
    }
   ],
   "source": [
    "df.Sector.value_counts()"
   ]
  },
  {
   "cell_type": "code",
   "execution_count": 59,
   "metadata": {},
   "outputs": [
    {
     "data": {
      "text/plain": [
       "Responded  Sector                                                                     \n",
       "No         Oil, gas & coal                                                                125\n",
       "           Mining                                                                          83\n",
       "           Technology, telecom & electronics                                               83\n",
       "           Clothing & textile                                                              76\n",
       "           Finance & banking                                                               71\n",
       "           Energy                                                                          60\n",
       "           Construction                                                                    27\n",
       "           Pharmaceutical                                                                  23\n",
       "           Metals & steel                                                                  22\n",
       "           Agriculture & livestock                                                         19\n",
       "           Diversified/Conglomerates                                                       19\n",
       "           Automobile & other motor vehicles                                               18\n",
       "           Security companies                                                              17\n",
       "           Food & beverage                                                                 15\n",
       "           Footwear                                                                        13\n",
       "           Arms/Weapons                                                                    12\n",
       "           Hydropower & dam projects                                                       11\n",
       "           Insurance                                                                       11\n",
       "           Retail                                                                          10\n",
       "           Aircraft/Airline                                                                 9\n",
       "           Engineering                                                                      9\n",
       "           Media & publishing: General                                                      9\n",
       "           Cement                                                                           8\n",
       "           Chemical: General                                                                8\n",
       "           Diamond                                                                          8\n",
       "           Internet & social media                                                          8\n",
       "           Heating & boilers                                                                7\n",
       "           Shipping, ship-building & ship-scrapping                                         7\n",
       "           Oil, gas & coal | Energy                                                         6\n",
       "           Property development                                                             6\n",
       "                                                                                         ... \n",
       "Yes        Golf courses                                                                     1\n",
       "           Health care | Medical equipment/supplies                                         1\n",
       "           Household products                                                               1\n",
       "           Household products | Office supplies & stationery                                1\n",
       "           Hydropower & dam projects | Technology, telecom & electronics                    1\n",
       "           Jewellery | Watch & clock                                                        1\n",
       "           Law firms                                                                        1\n",
       "           Leather & tanneries                                                              1\n",
       "           Logging & lumber | Mining | Energy                                               1\n",
       "           Machine & machine tools | Mining                                                 1\n",
       "           Manufacturing: General | Engineering | Energy                                    1\n",
       "           Manufacturing: General | Metals & steel | Technology, telecom & electronics      1\n",
       "           Memorabilia/collectibles                                                         1\n",
       "           Metals & steel | Plastics                                                        1\n",
       "           Mining | Oil, gas & coal | Energy | Nuclear energy | Water companies             1\n",
       "           Oil, gas & coal | Petrol stations                                                1\n",
       "           Perfume | Luggage, backpacks & bags | Jewellery | Watch & clock | Hotel          1\n",
       "           Plastics                                                                         1\n",
       "           Postal services                                                                  1\n",
       "           Prison companies                                                                 1\n",
       "           Property development | Property management                                       1\n",
       "           Restaurants & bars                                                               1\n",
       "           Road-building | Energy                                                           1\n",
       "           Ski resorts                                                                      1\n",
       "           Solar energy                                                                     1\n",
       "           Storage | Transport: General                                                     1\n",
       "           Taxi                                                                             1\n",
       "           Tire                                                                             1\n",
       "           Waste disposal                                                                   1\n",
       "           Wigs                                                                             1\n",
       "Name: Sector, Length: 378, dtype: int64"
      ]
     },
     "execution_count": 59,
     "metadata": {},
     "output_type": "execute_result"
    }
   ],
   "source": [
    "df.groupby('Responded')['Sector'].value_counts()"
   ]
  },
  {
   "cell_type": "code",
   "execution_count": 25,
   "metadata": {},
   "outputs": [
    {
     "data": {
      "text/plain": [
       "0                                 Agriculture & livestock\n",
       "1                Shipping, ship-building & ship-scrapping\n",
       "2                      Food & beverage | Palm trees & oil\n",
       "3                                             Engineering\n",
       "4                                             Engineering\n",
       "5                                             Engineering\n",
       "6                                             Engineering\n",
       "7                                             Engineering\n",
       "8                                          Pharmaceutical\n",
       "9                                          Pharmaceutical\n",
       "10                                         Pharmaceutical\n",
       "11                                         Pharmaceutical\n",
       "12                                         Pharmaceutical\n",
       "13                                         Pharmaceutical\n",
       "14                                         Pharmaceutical\n",
       "15                                         Pharmaceutical\n",
       "16                                                    Toy\n",
       "17                                       Palm trees & oil\n",
       "18                                       Palm trees & oil\n",
       "19                                           Construction\n",
       "20                                           Construction\n",
       "21                                           Construction\n",
       "22                                           Construction\n",
       "23                                           Construction\n",
       "24                                           Construction\n",
       "25                                                    NaN\n",
       "26                                      Finance & banking\n",
       "27                                      Finance & banking\n",
       "28                                      Finance & banking\n",
       "29                                                 Mining\n",
       "                              ...                        \n",
       "3701                                         Construction\n",
       "3702                              Internet & social media\n",
       "3703                              Internet & social media\n",
       "3704                              Internet & social media\n",
       "3705                              Internet & social media\n",
       "3706                              Internet & social media\n",
       "3707                                               Mining\n",
       "3708                                   Clothing & textile\n",
       "3709                    Technology, telecom & electronics\n",
       "3710                    Technology, telecom & electronics\n",
       "3711                                      Oil, gas & coal\n",
       "3712    Diversified/Conglomerates | Construction | Roa...\n",
       "3713       Technology, telecom & electronics | Auto parts\n",
       "3714                                             Footwear\n",
       "3715                                             Footwear\n",
       "3716                                               Mining\n",
       "3717                                          Engineering\n",
       "3718                              Metals & steel | Mining\n",
       "3719                                               Mining\n",
       "3720                                               Mining\n",
       "3721                                               Mining\n",
       "3722                    Technology, telecom & electronics\n",
       "3723                    Technology, telecom & electronics\n",
       "3724                    Technology, telecom & electronics\n",
       "3725                                    Finance & banking\n",
       "3726                             Mining | Oil, gas & coal\n",
       "3727                             Mining | Oil, gas & coal\n",
       "3728                               Manufacturing: General\n",
       "3729                                      Oil, gas & coal\n",
       "3730                             Mining | Oil, gas & coal\n",
       "Name: Sector, Length: 3731, dtype: object"
      ]
     },
     "execution_count": 25,
     "metadata": {},
     "output_type": "execute_result"
    }
   ],
   "source": [
    "df.Sector"
   ]
  },
  {
   "cell_type": "code",
   "execution_count": 51,
   "metadata": {},
   "outputs": [
    {
     "data": {
      "text/plain": [
       "<matplotlib.axes._subplots.AxesSubplot at 0x111d4a5f8>"
      ]
     },
     "execution_count": 51,
     "metadata": {},
     "output_type": "execute_result"
    },
    {
     "data": {
      "image/png": "[encoded data removed]",
      "text/plain": [
       "<Figure size 432x288 with 1 Axes>"
      ]
     },
     "metadata": {},
     "output_type": "display_data"
    }
   ],
   "source": [
    "df.Year.value_counts().sort_index().plot(kind='bar', color='blue')"
   ]
  },
  {
   "cell_type": "code",
   "execution_count": 54,
   "metadata": {},
   "outputs": [
    {
     "data": {
      "text/plain": [
       "<matplotlib.axes._subplots.AxesSubplot at 0x1120e3470>"
      ]
     },
     "execution_count": 54,
     "metadata": {},
     "output_type": "execute_result"
    },
    {
     "data": {
      "image/png": "[encoded data removed]",
      "text/plain": [
       "<Figure size 432x288 with 1 Axes>"
      ]
     },
     "metadata": {},
     "output_type": "display_data"
    }
   ],
   "source": [
    "df.Responded.value_counts().sort_values().plot(kind='barh')"
   ]
  },
  {
   "cell_type": "code",
   "execution_count": 55,
   "metadata": {},
   "outputs": [
    {
     "data": {
      "text/plain": [
       "<matplotlib.axes._subplots.AxesSubplot at 0x1121aa358>"
      ]
     },
     "execution_count": 55,
     "metadata": {},
     "output_type": "execute_result"
    },
    {
     "data": {
      "image/png": "[encoded data removed]",
      "text/plain": [
       "<Figure size 432x288 with 1 Axes>"
      ]
     },
     "metadata": {},
     "output_type": "display_data"
    }
   ],
   "source": [
    "df[(df.Sector == 'Technology, telecom & electronics')|(df.Sector == 'Internet & social media')].Responded.value_counts().sort_values().plot(kind='barh')"
   ]
  },
  {
   "cell_type": "code",
   "execution_count": 56,
   "metadata": {},
   "outputs": [
    {
     "data": {
      "text/plain": [
       "<matplotlib.axes._subplots.AxesSubplot at 0x112252f28>"
      ]
     },
     "execution_count": 56,
     "metadata": {},
     "output_type": "execute_result"
    },
    {
     "data": {
      "image/png": "[encoded data removed]",
      "text/plain": [
       "<Figure size 432x288 with 1 Axes>"
      ]
     },
     "metadata": {},
     "output_type": "display_data"
    }
   ],
   "source": [
    "df[df.Sector == 'Mining'].Responded.value_counts().sort_values().plot(kind='barh')"
   ]
  },
  {
   "cell_type": "code",
   "execution_count": 57,
   "metadata": {},
   "outputs": [
    {
     "data": {
      "text/plain": [
       "<matplotlib.axes._subplots.AxesSubplot at 0x112291a58>"
      ]
     },
     "execution_count": 57,
     "metadata": {},
     "output_type": "execute_result"
    },
    {
     "data": {
      "image/png": "[encoded data removed]",
      "text/plain": [
       "<Figure size 432x288 with 1 Axes>"
      ]
     },
     "metadata": {},
     "output_type": "display_data"
    }
   ],
   "source": [
    "df[df.Sector == 'Oil, gas & coal'].Responded.value_counts().sort_values().plot(kind='barh')"
   ]
  },
  {
   "cell_type": "code",
   "execution_count": 58,
   "metadata": {},
   "outputs": [
    {
     "data": {
      "text/plain": [
       "<matplotlib.axes._subplots.AxesSubplot at 0x1123cb780>"
      ]
     },
     "execution_count": 58,
     "metadata": {},
     "output_type": "execute_result"
    },
    {
     "data": {
      "image/png": "[encoded data removed]",
      "text/plain": [
       "<Figure size 432x288 with 1 Axes>"
      ]
     },
     "metadata": {},
     "output_type": "display_data"
    }
   ],
   "source": [
    "df[df.Sector == 'Diamond'].Responded.value_counts().sort_values().plot(kind='barh')"
   ]
  },
  {
   "cell_type": "code",
   "execution_count": null,
   "metadata": {},
   "outputs": [],
   "source": []
  }
 ],
 "metadata": {
  "kernelspec": {
   "display_name": "Python 3",
   "language": "python",
   "name": "python3"
  },
  "language_info": {
   "codemirror_mode": {
    "name": "ipython",
    "version": 3
   },
   "file_extension": ".py",
   "mimetype": "text/x-python",
   "name": "python",
   "nbconvert_exporter": "python",
   "pygments_lexer": "ipython3",
   "version": "3.6.4"
  }
 },
 "nbformat": 4,
 "nbformat_minor": 2
}
