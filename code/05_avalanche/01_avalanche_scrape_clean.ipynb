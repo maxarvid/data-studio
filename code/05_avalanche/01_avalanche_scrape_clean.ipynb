{
 "cells": [
  {
   "cell_type": "code",
   "execution_count": null,
   "metadata": {},
   "outputs": [],
   "source": [
    "import pandas as pd\n",
    "from bs4 import BeautifulSoup\n",
    "import requests\n",
    "import time\n",
    "import re\n",
    "\n",
    "%matplotlib inline\n",
    "\n",
    "from user_agent import generate_user_agent\n",
    "headers = {'User-Agent': generate_user_agent(device_type=\"desktop\", os=('mac', 'linux'))}\n",
    "\n",
    "pd.set_option('max_colwidth', -1)"
   ]
  },
  {
   "cell_type": "code",
   "execution_count": null,
   "metadata": {},
   "outputs": [],
   "source": [
    "url = 'https://www.azlyrics.com/c/cohen.html'\n",
    "\n",
    "raw_html = requests.get(url, headers=headers)\n",
    "soup_doc = BeautifulSoup(raw_html.content, 'html.parser')"
   ]
  },
  {
   "cell_type": "code",
   "execution_count": null,
   "metadata": {},
   "outputs": [],
   "source": [
    "song_urls = []\n",
    "for song_link in soup_doc.findAll('a')[31:-7]:\n",
    "    song_dict = {}\n",
    "    if song_link.text != '':\n",
    "        song_dict['title'] = song_link.text\n",
    "        song_dict['url'] = 'https://www.azlyrics.com/lyrics/'+song_link.attrs['href']\n",
    "    song_urls.append(song_dict)"
   ]
  },
  {
   "cell_type": "code",
   "execution_count": null,
   "metadata": {},
   "outputs": [],
   "source": [
    "df_songs = pd.DataFrame(song_urls)\n",
    "df_songs.head()"
   ]
  },
  {
   "cell_type": "code",
   "execution_count": null,
   "metadata": {},
   "outputs": [],
   "source": [
    "df_songs.dropna(inplace=True)\n",
    "urls = df_songs.url"
   ]
  },
  {
   "cell_type": "code",
   "execution_count": null,
   "metadata": {},
   "outputs": [],
   "source": [
    "songs = []\n",
    "for url in urls:\n",
    "    song_dict = {}\n",
    "    raw_html = requests.get(url, headers=headers)\n",
    "    soup_doc = BeautifulSoup(raw_html.content, 'html.parser')\n",
    "    song_dict['title'] = soup_doc.findAll('b')[1].text\n",
    "    song_dict['album'] = soup_doc.findAll('b')[2].text\n",
    "    song_dict['year'] = soup_doc.findAll('b')[2].next.next\n",
    "    song_dict['lyrics'] = soup_doc.findAll('div')[21]\n",
    "    songs.append(song_dict)\n",
    "    time.sleep(1)"
   ]
  },
  {
   "cell_type": "code",
   "execution_count": null,
   "metadata": {},
   "outputs": [],
   "source": [
    "songs[-1]"
   ]
  },
  {
   "cell_type": "code",
   "execution_count": null,
   "metadata": {},
   "outputs": [],
   "source": [
    "urls[78:]"
   ]
  },
  {
   "cell_type": "code",
   "execution_count": null,
   "metadata": {},
   "outputs": [],
   "source": [
    "for url in urls[78:-3]: #Drop the last three, not released on an album.\n",
    "    song_dict = {}\n",
    "    raw_html = requests.get(url, headers=headers, timeout=5)\n",
    "    soup_doc = BeautifulSoup(raw_html.content, 'html.parser')\n",
    "    song_dict['title'] = soup_doc.findAll('b')[1].text\n",
    "    song_dict['album'] = soup_doc.findAll('b')[2].text\n",
    "    song_dict['year'] = soup_doc.findAll('b')[2].next.next\n",
    "    song_dict['lyrics'] = soup_doc.findAll('div')[21]\n",
    "    songs.append(song_dict)\n",
    "    time.sleep(1)"
   ]
  },
  {
   "cell_type": "code",
   "execution_count": null,
   "metadata": {},
   "outputs": [],
   "source": [
    "df = pd.DataFrame(songs)"
   ]
  },
  {
   "cell_type": "code",
   "execution_count": null,
   "metadata": {},
   "outputs": [],
   "source": [
    "df.lyrics = df.lyrics.astype(str)\n",
    "df.lyrics = df.lyrics.str.replace('<div>\\n<!-- Usage of azlyrics.com content by any third-party lyrics provider is prohibited by our licensing agreement. Sorry about that. -->\\r\\n','')\n",
    "df.lyrics = df.lyrics.str.replace('<br/>','')\n",
    "df.lyrics = df.lyrics.str.replace('</div>','')\n",
    "df.album = df.album.str.replace('\"','')\n",
    "df.title = df.title.str.replace('\"','')\n",
    "df.year = df.year.str.replace('(','')\n",
    "df.year = df.year.str.replace(')','')"
   ]
  },
  {
   "cell_type": "code",
   "execution_count": null,
   "metadata": {},
   "outputs": [],
   "source": [
    "df.year.value_counts()"
   ]
  },
  {
   "cell_type": "code",
   "execution_count": null,
   "metadata": {},
   "outputs": [],
   "source": [
    "df.to_csv('avalanche_cleaned.csv', index=False)"
   ]
  }
 ],
 "metadata": {
  "kernelspec": {
   "display_name": "Python 3",
   "language": "python",
   "name": "python3"
  },
  "language_info": {
   "codemirror_mode": {
    "name": "ipython",
    "version": 3
   },
   "file_extension": ".py",
   "mimetype": "text/x-python",
   "name": "python",
   "nbconvert_exporter": "python",
   "pygments_lexer": "ipython3",
   "version": "3.6.4"
  }
 },
 "nbformat": 4,
 "nbformat_minor": 2
}
