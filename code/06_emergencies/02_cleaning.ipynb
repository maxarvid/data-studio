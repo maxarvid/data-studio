{
 "cells": [
  {
   "cell_type": "code",
   "execution_count": 80,
   "metadata": {},
   "outputs": [],
   "source": [
    "import pandas as pd\n",
    "import re\n",
    "\n",
    "import matplotlib.pyplot as plt\n",
    "\n",
    "%matplotlib inline"
   ]
  },
  {
   "cell_type": "code",
   "execution_count": 2,
   "metadata": {},
   "outputs": [
    {
     "data": {
      "text/html": [
       "<div>\n",
       "<style scoped>\n",
       "    .dataframe tbody tr th:only-of-type {\n",
       "        vertical-align: middle;\n",
       "    }\n",
       "\n",
       "    .dataframe tbody tr th {\n",
       "        vertical-align: top;\n",
       "    }\n",
       "\n",
       "    .dataframe thead th {\n",
       "        text-align: right;\n",
       "    }\n",
       "</style>\n",
       "<table border=\"1\" class=\"dataframe\">\n",
       "  <thead>\n",
       "    <tr style=\"text-align: right;\">\n",
       "      <th></th>\n",
       "      <th>date</th>\n",
       "      <th>state</th>\n",
       "      <th>text_list</th>\n",
       "    </tr>\n",
       "  </thead>\n",
       "  <tbody>\n",
       "    <tr>\n",
       "      <th>0</th>\n",
       "      <td>19 June 1991</td>\n",
       "      <td>Algeria</td>\n",
       "      <td>['Algeria19 June 1991', 'In view of public dis...</td>\n",
       "    </tr>\n",
       "    <tr>\n",
       "      <th>1</th>\n",
       "      <td>14 February 1992</td>\n",
       "      <td>Algeria</td>\n",
       "      <td>['Algeria19 June 1991', 'In view of public dis...</td>\n",
       "    </tr>\n",
       "  </tbody>\n",
       "</table>\n",
       "</div>"
      ],
      "text/plain": [
       "               date    state  \\\n",
       "0      19 June 1991  Algeria   \n",
       "1  14 February 1992  Algeria   \n",
       "\n",
       "                                           text_list  \n",
       "0  ['Algeria19 June 1991', 'In view of public dis...  \n",
       "1  ['Algeria19 June 1991', 'In view of public dis...  "
      ]
     },
     "execution_count": 2,
     "metadata": {},
     "output_type": "execute_result"
    }
   ],
   "source": [
    "df = pd.read_csv('data_dirty.csv', dtype={'text_list':object})\n",
    "df.head(2)"
   ]
  },
  {
   "cell_type": "code",
   "execution_count": 13,
   "metadata": {},
   "outputs": [],
   "source": [
    "df.text_list = df.text_list.str.slice(start=2, stop=-2)\n",
    "df.text_list = df['text_list'].str.split(\"\\', \\'\")"
   ]
  },
  {
   "cell_type": "code",
   "execution_count": 38,
   "metadata": {},
   "outputs": [],
   "source": [
    "df['text_str'] = df.text_list.str.join(',')"
   ]
  },
  {
   "cell_type": "code",
   "execution_count": 42,
   "metadata": {},
   "outputs": [
    {
     "data": {
      "text/plain": [
       "'Algeria19 June 1991,In view of public disturbances and the threat of deterioration of the situation [...] a state of siege has been proclaimed, beginning at midnight in the night of 4/5 June 1991, for a period of four months throughout Algerian territory.,The Government of Algeria subsequently specified that these disturbances had been fomented with a view of preventing the general elections to be held on 27 June 1991 and to challenge the ongoing democratic process; and that in view of the insurrectional situation which threatened the stability of the institutions, the security of the people and their property, and the normal operation of the public services, it had been necessary to derogate from the provisions of articles 9 (3), 12 (1), 17, 19 (2) and 21 of the Covenant.,The said state of siege was terminated throughout Algeria on 29 September 1991.14 February 1992,(Dated 13 February 1992),In view of the serious threats to public order and the safety of individuals over the past few weeks, the growth of such threats during the month of February 1992 and the dangers of aggravation of the situation, the President of the High State Council, [...], has issued Presidential decree No. 92-44 of 9 February 1992, decreeing a state of emergency, throughout the national territory, with effect from 9 February 1992 at 2000 hours for a duration of twelve months, in accordance with articles 67, 74 and 76 of the Algerian Constitution. \\\\xa0[The Government of Algeria has specified that the articles of the Covenant which are derogated from are articles 9(3), 12, 17 and 21]. ,The establishment of the state of emergency, which is aimed essentially at restoring public order, protecting the safety of individuals and public services, does not interfere with the democratic process inasmuch as the exercise of fundamental rights and freedoms continues to be guarantied.,The state of emergency may, however, be lifted ahead of schedule, once the situation which prompted its establishment has been resolved and normal conditions of life in the nation have been restored.25 February 2011\\', \"... by Presidential Ordinance No. 11-01 of 23 February 2011, the Government of the People\\'s Democratic Republic of Algeria has lifted the state of emergency.\", \\'[The] [s]aid Ordinance [...] repealed Legislative Decree No. 93-02 of 6 February 1993 extending the duration of the state of emergency established by Presidential Decree No. 92-44 of 9 February 1992...'"
      ]
     },
     "execution_count": 42,
     "metadata": {},
     "output_type": "execute_result"
    }
   ],
   "source": [
    "df.text_str[0]"
   ]
  },
  {
   "cell_type": "code",
   "execution_count": 67,
   "metadata": {},
   "outputs": [
    {
     "data": {
      "text/plain": [
       "['1991,', '1991,', '1992,', '1992,', '2011,']"
      ]
     },
     "execution_count": 67,
     "metadata": {},
     "output_type": "execute_result"
    }
   ],
   "source": [
    "re.findall(r\"\\d\\d\\d\\d[,]\", df.text_str[0])\n",
    "\n"
   ]
  },
  {
   "cell_type": "code",
   "execution_count": 4,
   "metadata": {},
   "outputs": [
    {
     "data": {
      "text/plain": [
       "'19 June 1991'"
      ]
     },
     "execution_count": 4,
     "metadata": {},
     "output_type": "execute_result"
    }
   ],
   "source": [
    "df.loc[0,'date']"
   ]
  },
  {
   "cell_type": "code",
   "execution_count": 70,
   "metadata": {},
   "outputs": [
    {
     "data": {
      "text/plain": [
       "7"
      ]
     },
     "execution_count": 70,
     "metadata": {},
     "output_type": "execute_result"
    }
   ],
   "source": [
    "df.text_str[0].find(df.loc[0, 'date'])"
   ]
  },
  {
   "cell_type": "code",
   "execution_count": 71,
   "metadata": {},
   "outputs": [
    {
     "data": {
      "text/plain": [
       "863"
      ]
     },
     "execution_count": 71,
     "metadata": {},
     "output_type": "execute_result"
    }
   ],
   "source": [
    "df.text_str[0].find(df.loc[1, 'date'])"
   ]
  },
  {
   "cell_type": "code",
   "execution_count": 73,
   "metadata": {},
   "outputs": [
    {
     "data": {
      "text/plain": [
       "'19 June 1991,In view of public disturbances and the threat of deterioration of the situation [...] a state of siege has been proclaimed, beginning at midnight in the night of 4/5 June 1991, for a period of four months throughout Algerian territory.,The Government of Algeria subsequently specified that these disturbances had been fomented with a view of preventing the general elections to be held on 27 June 1991 and to challenge the ongoing democratic process; and that in view of the insurrectional situation which threatened the stability of the institutions, the security of the people and their property, and the normal operation of the public services, it had been necessary to derogate from the provisions of articles 9 (3), 12 (1), 17, 19 (2) and 21 of the Covenant.,The said state of siege was terminated throughout Algeria on 29 September 1991.'"
      ]
     },
     "execution_count": 73,
     "metadata": {},
     "output_type": "execute_result"
    }
   ],
   "source": [
    "df.text_str[0][df.text_str[0].find(df.loc[0, 'date']):df.text_str[0].find(df.loc[1, 'date'])]"
   ]
  },
  {
   "cell_type": "code",
   "execution_count": 75,
   "metadata": {},
   "outputs": [
    {
     "data": {
      "text/plain": [
       "(454, 4)"
      ]
     },
     "execution_count": 75,
     "metadata": {},
     "output_type": "execute_result"
    }
   ],
   "source": [
    "df.shape"
   ]
  },
  {
   "cell_type": "code",
   "execution_count": 76,
   "metadata": {},
   "outputs": [
    {
     "data": {
      "text/plain": [
       "date         object\n",
       "state        object\n",
       "text_list    object\n",
       "text_str     object\n",
       "dtype: object"
      ]
     },
     "execution_count": 76,
     "metadata": {},
     "output_type": "execute_result"
    }
   ],
   "source": [
    "df.dtypes"
   ]
  },
  {
   "cell_type": "code",
   "execution_count": 85,
   "metadata": {},
   "outputs": [
    {
     "data": {
      "text/plain": [
       "<matplotlib.axes._subplots.AxesSubplot at 0x13043a780>"
      ]
     },
     "execution_count": 85,
     "metadata": {},
     "output_type": "execute_result"
    },
    {
     "data": {
      "image/png": "[encoded data removed]",
      "text/plain": [
       "<Figure size 432x288 with 1 Axes>"
      ]
     },
     "metadata": {},
     "output_type": "display_data"
    }
   ],
   "source": [
    "df.state.value_counts().head().sort_values().plot(kind='barh', color='Blue')"
   ]
  },
  {
   "cell_type": "code",
   "execution_count": null,
   "metadata": {},
   "outputs": [],
   "source": []
  }
 ],
 "metadata": {
  "kernelspec": {
   "display_name": "Python 3",
   "language": "python",
   "name": "python3"
  },
  "language_info": {
   "codemirror_mode": {
    "name": "ipython",
    "version": 3
   },
   "file_extension": ".py",
   "mimetype": "text/x-python",
   "name": "python",
   "nbconvert_exporter": "python",
   "pygments_lexer": "ipython3",
   "version": "3.6.4"
  }
 },
 "nbformat": 4,
 "nbformat_minor": 2
}
