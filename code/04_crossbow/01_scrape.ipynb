{
 "cells": [
  {
   "cell_type": "markdown",
   "metadata": {},
   "source": [
    "## We are grabbing all the auctions for firearms and ammunition from GovDeals.com\n",
    "\n",
    "https://www.govdeals.com/index.cfm?fa=Main.AdvSearchResultsNew&searchPg=Category&additionalParams=true&sortOption=ad&timing=BySimple&timingType=&category=55&rowCount=10&StartRow=1\n",
    "\n",
    "https://www.govdeals.com/index.cfm"
   ]
  },
  {
   "cell_type": "code",
   "execution_count": 2,
   "metadata": {},
   "outputs": [],
   "source": [
    "import pandas as pd\n",
    "from bs4 import BeautifulSoup\n",
    "import requests\n",
    "\n",
    "%matplotlib inline\n",
    "\n",
    "from user_agent import generate_user_agent\n",
    "headers = {'User-Agent': generate_user_agent(device_type=\"desktop\", os=('mac', 'linux'))}"
   ]
  },
  {
   "cell_type": "code",
   "execution_count": 96,
   "metadata": {},
   "outputs": [],
   "source": [
    "urls = ['https://www.govdeals.com/index.cfm?fa=Main.AdvSearchResultsNew&searchPg=Category&additionalParams=true&sortOption=ad&timing=BySimple&timingType=&category=55&rowCount=50&StartRow=1','https://www.govdeals.com/index.cfm?fa=Main.AdvSearchResultsNew&searchPg=Category&additionalParams=true&sortOption=ad&timing=BySimple&timingType=&category=55&rowCount=50&StartRow=51']"
   ]
  },
  {
   "cell_type": "code",
   "execution_count": 91,
   "metadata": {},
   "outputs": [
    {
     "data": {
      "text/plain": [
       "<a href=\"https://www.irondirect.com/\" target=\"_blank\"><img alt=\"irondirect.com logo\" border=\"0\" height=\"22\" hspace=\"15\" src=\"img/IronDirect_Logo_small.png\" width=\"180\"/></a>"
      ]
     },
     "execution_count": 91,
     "metadata": {},
     "output_type": "execute_result"
    }
   ],
   "source": [
    "soup_doc.findAll('a')[-1]"
   ]
  },
  {
   "cell_type": "code",
   "execution_count": 97,
   "metadata": {},
   "outputs": [],
   "source": [
    "arms = []\n",
    "for url in urls:\n",
    "    raw_html = requests.get(url, headers=headers)\n",
    "    soup_doc = BeautifulSoup(raw_html.content, 'html.parser')\n",
    "    for each in soup_doc.findAll('tr')[1:-2]:\n",
    "        arms_dict = {}\n",
    "        arms_dict['name'] = each.find('img').attrs['alt']\n",
    "        arms_dict['location'] = each.findAll('td')[5].text[6:-1]\n",
    "        arms_dict['make'] = each.findAll('td')[2].text\n",
    "        arms_dict['model'] = each.findAll('td')[3].text\n",
    "        arms_dict['link'] = 'https://www.govdeals.com/' + each.findAll('a')[1].attrs['href']\n",
    "        arms.append(arms_dict)"
   ]
  },
  {
   "cell_type": "code",
   "execution_count": 101,
   "metadata": {},
   "outputs": [
    {
     "data": {
      "text/html": [
       "<div>\n",
       "<style scoped>\n",
       "    .dataframe tbody tr th:only-of-type {\n",
       "        vertical-align: middle;\n",
       "    }\n",
       "\n",
       "    .dataframe tbody tr th {\n",
       "        vertical-align: top;\n",
       "    }\n",
       "\n",
       "    .dataframe thead th {\n",
       "        text-align: right;\n",
       "    }\n",
       "</style>\n",
       "<table border=\"1\" class=\"dataframe\">\n",
       "  <thead>\n",
       "    <tr style=\"text-align: right;\">\n",
       "      <th></th>\n",
       "      <th>link</th>\n",
       "      <th>location</th>\n",
       "      <th>make</th>\n",
       "      <th>model</th>\n",
       "      <th>name</th>\n",
       "    </tr>\n",
       "  </thead>\n",
       "  <tbody>\n",
       "    <tr>\n",
       "      <th>0</th>\n",
       "      <td>https://www.govdeals.com/index.cfm?fa=Main.Ite...</td>\n",
       "      <td>Benton, TN</td>\n",
       "      <td>Remington</td>\n",
       "      <td>11-87 Premier</td>\n",
       "      <td>Remington 11-87 Premier Semi-Automatic 12 Gaug...</td>\n",
       "    </tr>\n",
       "    <tr>\n",
       "      <th>1</th>\n",
       "      <td>https://www.govdeals.com/index.cfm?fa=Main.Ite...</td>\n",
       "      <td>Nashville, TN</td>\n",
       "      <td>REMINGTON</td>\n",
       "      <td>700</td>\n",
       "      <td>REMINGTON 700 .270</td>\n",
       "    </tr>\n",
       "    <tr>\n",
       "      <th>2</th>\n",
       "      <td>https://www.govdeals.com/index.cfm?fa=Main.Ite...</td>\n",
       "      <td>Nashville, TN</td>\n",
       "      <td>REMINGTON</td>\n",
       "      <td>700</td>\n",
       "      <td>REMINGTON MODEL 700, .270</td>\n",
       "    </tr>\n",
       "    <tr>\n",
       "      <th>3</th>\n",
       "      <td>https://www.govdeals.com/index.cfm?fa=Main.Ite...</td>\n",
       "      <td>Benton, TN</td>\n",
       "      <td>Smith and Wesson</td>\n",
       "      <td>SD9 VE</td>\n",
       "      <td>Smith and Wesson SD9 VE 9mm Semi-Auto Handgun</td>\n",
       "    </tr>\n",
       "    <tr>\n",
       "      <th>4</th>\n",
       "      <td>https://www.govdeals.com/index.cfm?fa=Main.Ite...</td>\n",
       "      <td>Benton, TN</td>\n",
       "      <td>EAA</td>\n",
       "      <td>Windicator</td>\n",
       "      <td>EAA Windicator .38 Special / .357 Magnum Revolver</td>\n",
       "    </tr>\n",
       "  </tbody>\n",
       "</table>\n",
       "</div>"
      ],
      "text/plain": [
       "                                                link       location  \\\n",
       "0  https://www.govdeals.com/index.cfm?fa=Main.Ite...     Benton, TN   \n",
       "1  https://www.govdeals.com/index.cfm?fa=Main.Ite...  Nashville, TN   \n",
       "2  https://www.govdeals.com/index.cfm?fa=Main.Ite...  Nashville, TN   \n",
       "3  https://www.govdeals.com/index.cfm?fa=Main.Ite...     Benton, TN   \n",
       "4  https://www.govdeals.com/index.cfm?fa=Main.Ite...     Benton, TN   \n",
       "\n",
       "               make          model  \\\n",
       "0         Remington  11-87 Premier   \n",
       "1         REMINGTON            700   \n",
       "2         REMINGTON            700   \n",
       "3  Smith and Wesson         SD9 VE   \n",
       "4               EAA    Windicator    \n",
       "\n",
       "                                                name  \n",
       "0  Remington 11-87 Premier Semi-Automatic 12 Gaug...  \n",
       "1                                 REMINGTON 700 .270  \n",
       "2                          REMINGTON MODEL 700, .270  \n",
       "3      Smith and Wesson SD9 VE 9mm Semi-Auto Handgun  \n",
       "4  EAA Windicator .38 Special / .357 Magnum Revolver  "
      ]
     },
     "execution_count": 101,
     "metadata": {},
     "output_type": "execute_result"
    }
   ],
   "source": [
    "df = pd.DataFrame(arms)\n",
    "df.head()"
   ]
  },
  {
   "cell_type": "code",
   "execution_count": 102,
   "metadata": {},
   "outputs": [],
   "source": [
    "df.to_csv('arms_data_raw.csv', index=False)"
   ]
  },
  {
   "cell_type": "code",
   "execution_count": null,
   "metadata": {},
   "outputs": [],
   "source": []
  }
 ],
 "metadata": {
  "kernelspec": {
   "display_name": "Python 3",
   "language": "python",
   "name": "python3"
  },
  "language_info": {
   "codemirror_mode": {
    "name": "ipython",
    "version": 3
   },
   "file_extension": ".py",
   "mimetype": "text/x-python",
   "name": "python",
   "nbconvert_exporter": "python",
   "pygments_lexer": "ipython3",
   "version": "3.6.4"
  }
 },
 "nbformat": 4,
 "nbformat_minor": 2
}
