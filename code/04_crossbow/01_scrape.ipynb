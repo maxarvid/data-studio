{
 "cells": [
  {
   "cell_type": "markdown",
   "metadata": {},
   "source": [
    "## We are grabbing all the auctions for firearms and ammunition from GovDeals.com\n",
    "\n",
    "https://www.govdeals.com/index.cfm?fa=Main.AdvSearchResultsNew&searchPg=Category&additionalParams=true&sortOption=ad&timing=BySimple&timingType=&category=55&rowCount=10&StartRow=1\n",
    "\n",
    "https://www.govdeals.com/index.cfm"
   ]
  },
  {
   "cell_type": "code",
   "execution_count": 1,
   "metadata": {},
   "outputs": [],
   "source": [
    "import pandas as pd\n",
    "from bs4 import BeautifulSoup\n",
    "import requests\n",
    "\n",
    "%matplotlib inline\n",
    "pd.set_option('max_colwidth', -1)\n",
    "\n",
    "from user_agent import generate_user_agent\n",
    "headers = {'User-Agent': generate_user_agent(device_type=\"desktop\", os=('mac', 'linux'))}"
   ]
  },
  {
   "cell_type": "code",
   "execution_count": 9,
   "metadata": {},
   "outputs": [],
   "source": [
    "urls = ['https://www.govdeals.com/index.cfm?fa=Main.AdvSearchResultsNew&searchPg=Category&additionalParams=true&sortOption=ad&timing=BySimple&timingType=&category=55&rowCount=10&StartRow=1']"
   ]
  },
  {
   "cell_type": "code",
   "execution_count": 10,
   "metadata": {},
   "outputs": [],
   "source": [
    "arms = []\n",
    "for url in urls:\n",
    "    raw_html = requests.get(url, headers=headers)\n",
    "    soup_doc = BeautifulSoup(raw_html.content, 'html.parser')\n",
    "    for each in soup_doc.findAll('tr')[1:-2]:\n",
    "        arms_dict = {}\n",
    "        arms_dict['name'] = each.find('img').attrs['alt']\n",
    "        arms_dict['location'] = each.findAll('td')[5].text[6:-1]\n",
    "        arms_dict['make'] = each.findAll('td')[2].text\n",
    "        arms_dict['model'] = each.findAll('td')[3].text\n",
    "        arms_dict['link'] = 'https://www.govdeals.com/' + each.findAll('a')[1].attrs['href']\n",
    "        arms.append(arms_dict)"
   ]
  },
  {
   "cell_type": "code",
   "execution_count": 5,
   "metadata": {},
   "outputs": [
    {
     "data": {
      "text/html": [
       "<div>\n",
       "<style scoped>\n",
       "    .dataframe tbody tr th:only-of-type {\n",
       "        vertical-align: middle;\n",
       "    }\n",
       "\n",
       "    .dataframe tbody tr th {\n",
       "        vertical-align: top;\n",
       "    }\n",
       "\n",
       "    .dataframe thead th {\n",
       "        text-align: right;\n",
       "    }\n",
       "</style>\n",
       "<table border=\"1\" class=\"dataframe\">\n",
       "  <thead>\n",
       "    <tr style=\"text-align: right;\">\n",
       "      <th></th>\n",
       "      <th>link</th>\n",
       "      <th>location</th>\n",
       "      <th>make</th>\n",
       "      <th>model</th>\n",
       "      <th>name</th>\n",
       "    </tr>\n",
       "  </thead>\n",
       "  <tbody>\n",
       "    <tr>\n",
       "      <th>0</th>\n",
       "      <td>https://www.govdeals.com/index.cfm?fa=Main.Item&amp;itemid=173&amp;acctid=1164</td>\n",
       "      <td>Benton, TN</td>\n",
       "      <td>Remington</td>\n",
       "      <td>11-87 Premier</td>\n",
       "      <td>Remington 11-87 Premier Semi-Automatic 12 Gauge Shotgun</td>\n",
       "    </tr>\n",
       "    <tr>\n",
       "      <th>1</th>\n",
       "      <td>https://www.govdeals.com/index.cfm?fa=Main.Item&amp;itemid=161&amp;acctid=1164</td>\n",
       "      <td>Benton, TN</td>\n",
       "      <td>EAA</td>\n",
       "      <td>Windicator</td>\n",
       "      <td>EAA Windicator .38 Special / .357 Magnum Revolver</td>\n",
       "    </tr>\n",
       "    <tr>\n",
       "      <th>2</th>\n",
       "      <td>https://www.govdeals.com/index.cfm?fa=Main.Item&amp;itemid=166&amp;acctid=1164</td>\n",
       "      <td>Benton, TN</td>\n",
       "      <td>Smith and Wesson</td>\n",
       "      <td>SD9 VE</td>\n",
       "      <td>Smith and Wesson SD9 VE 9mm Semi-Auto Handgun</td>\n",
       "    </tr>\n",
       "    <tr>\n",
       "      <th>3</th>\n",
       "      <td>https://www.govdeals.com/index.cfm?fa=Main.Item&amp;itemid=170&amp;acctid=1164</td>\n",
       "      <td>Benton, TN</td>\n",
       "      <td>Boito</td>\n",
       "      <td>BR7</td>\n",
       "      <td>Boito BR7 20 Gauge Double Barrel Shotgun</td>\n",
       "    </tr>\n",
       "    <tr>\n",
       "      <th>4</th>\n",
       "      <td>https://www.govdeals.com/index.cfm?fa=Main.Item&amp;itemid=688&amp;acctid=11227</td>\n",
       "      <td>Nashville, TN</td>\n",
       "      <td>BOW TECH</td>\n",
       "      <td>STRYKER</td>\n",
       "      <td>BOW TECH STRYKER CROSSBOW</td>\n",
       "    </tr>\n",
       "  </tbody>\n",
       "</table>\n",
       "</div>"
      ],
      "text/plain": [
       "                                                                      link  \\\n",
       "0  https://www.govdeals.com/index.cfm?fa=Main.Item&itemid=173&acctid=1164    \n",
       "1  https://www.govdeals.com/index.cfm?fa=Main.Item&itemid=161&acctid=1164    \n",
       "2  https://www.govdeals.com/index.cfm?fa=Main.Item&itemid=166&acctid=1164    \n",
       "3  https://www.govdeals.com/index.cfm?fa=Main.Item&itemid=170&acctid=1164    \n",
       "4  https://www.govdeals.com/index.cfm?fa=Main.Item&itemid=688&acctid=11227   \n",
       "\n",
       "        location              make          model  \\\n",
       "0  Benton, TN     Remington         11-87 Premier   \n",
       "1  Benton, TN     EAA               Windicator      \n",
       "2  Benton, TN     Smith and Wesson  SD9 VE          \n",
       "3  Benton, TN     Boito             BR7             \n",
       "4  Nashville, TN  BOW TECH          STRYKER         \n",
       "\n",
       "                                                      name  \n",
       "0  Remington 11-87 Premier Semi-Automatic 12 Gauge Shotgun  \n",
       "1  EAA Windicator .38 Special / .357 Magnum Revolver        \n",
       "2  Smith and Wesson SD9 VE 9mm Semi-Auto Handgun            \n",
       "3  Boito BR7 20 Gauge Double Barrel Shotgun                 \n",
       "4  BOW TECH STRYKER CROSSBOW                                "
      ]
     },
     "execution_count": 5,
     "metadata": {},
     "output_type": "execute_result"
    }
   ],
   "source": [
    "df = pd.DataFrame(arms)\n",
    "df.head()"
   ]
  },
  {
   "cell_type": "code",
   "execution_count": 6,
   "metadata": {},
   "outputs": [],
   "source": [
    "df.to_csv('arms_data_raw.csv', index=False)"
   ]
  },
  {
   "cell_type": "code",
   "execution_count": null,
   "metadata": {},
   "outputs": [],
   "source": []
  }
 ],
 "metadata": {
  "kernelspec": {
   "display_name": "Python 3",
   "language": "python",
   "name": "python3"
  },
  "language_info": {
   "codemirror_mode": {
    "name": "ipython",
    "version": 3
   },
   "file_extension": ".py",
   "mimetype": "text/x-python",
   "name": "python",
   "nbconvert_exporter": "python",
   "pygments_lexer": "ipython3",
   "version": "3.6.4"
  }
 },
 "nbformat": 4,
 "nbformat_minor": 2
}
