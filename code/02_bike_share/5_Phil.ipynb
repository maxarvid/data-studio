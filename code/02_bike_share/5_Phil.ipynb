{
 "cells": [
  {
   "cell_type": "code",
   "execution_count": 1,
   "metadata": {},
   "outputs": [],
   "source": [
    "import pandas as pd\n",
    "import matplotlib.pyplot as plt\n",
    "\n",
    "%matplotlib inline"
   ]
  },
  {
   "cell_type": "code",
   "execution_count": 2,
   "metadata": {},
   "outputs": [],
   "source": [
    "plt.rcdefaults()\n",
    "plt.rcParams.update({\n",
    "    'pdf.fonttype': 42,\n",
    "    'ps.fonttype': 42,\n",
    "    'figure.facecolor': '#2e112d',\n",
    "    'axes.facecolor': '#2e112d',\n",
    "    'font.size': 12,\n",
    "    'text.color': '#ffdbc5',\n",
    "    'axes.labelcolor': '#ffdbc5'\n",
    "})"
   ]
  },
  {
   "cell_type": "code",
   "execution_count": 3,
   "metadata": {},
   "outputs": [
    {
     "data": {
      "text/html": [
       "<div>\n",
       "<style scoped>\n",
       "    .dataframe tbody tr th:only-of-type {\n",
       "        vertical-align: middle;\n",
       "    }\n",
       "\n",
       "    .dataframe tbody tr th {\n",
       "        vertical-align: top;\n",
       "    }\n",
       "\n",
       "    .dataframe thead th {\n",
       "        text-align: right;\n",
       "    }\n",
       "</style>\n",
       "<table border=\"1\" class=\"dataframe\">\n",
       "  <thead>\n",
       "    <tr style=\"text-align: right;\">\n",
       "      <th></th>\n",
       "      <th>Bike ID</th>\n",
       "      <th>Birth Year</th>\n",
       "      <th>End Station ID</th>\n",
       "      <th>End Station Latitude</th>\n",
       "      <th>End Station Longitude</th>\n",
       "      <th>End Station Name</th>\n",
       "      <th>Gender</th>\n",
       "      <th>Start Station ID</th>\n",
       "      <th>Start Station Latitude</th>\n",
       "      <th>Start Station Longitude</th>\n",
       "      <th>Start Station Name</th>\n",
       "      <th>Start Time</th>\n",
       "      <th>Stop Time</th>\n",
       "      <th>Trip Duration</th>\n",
       "      <th>User Type</th>\n",
       "      <th>at_rest</th>\n",
       "    </tr>\n",
       "  </thead>\n",
       "  <tbody>\n",
       "    <tr>\n",
       "      <th>0</th>\n",
       "      <td>25738.0</td>\n",
       "      <td>1985.0</td>\n",
       "      <td>3148.0</td>\n",
       "      <td>40.775655</td>\n",
       "      <td>-73.950686</td>\n",
       "      <td>E 84 St &amp; 1 Ave</td>\n",
       "      <td>1.0</td>\n",
       "      <td>3140.0</td>\n",
       "      <td>40.771404</td>\n",
       "      <td>-73.953517</td>\n",
       "      <td>1 Ave &amp; E 78 St</td>\n",
       "      <td>2017-01-01 03:04:00</td>\n",
       "      <td>2017-01-01 03:06:43</td>\n",
       "      <td>163.0</td>\n",
       "      <td>Subscriber</td>\n",
       "      <td>0 days 06:13:06.000000000</td>\n",
       "    </tr>\n",
       "    <tr>\n",
       "      <th>1</th>\n",
       "      <td>25738.0</td>\n",
       "      <td>1952.0</td>\n",
       "      <td>3150.0</td>\n",
       "      <td>40.775369</td>\n",
       "      <td>-73.948034</td>\n",
       "      <td>E 85 St &amp; York Ave</td>\n",
       "      <td>1.0</td>\n",
       "      <td>3148.0</td>\n",
       "      <td>40.775655</td>\n",
       "      <td>-73.950686</td>\n",
       "      <td>E 84 St &amp; 1 Ave</td>\n",
       "      <td>2017-01-01 09:19:49</td>\n",
       "      <td>2017-01-01 09:26:46</td>\n",
       "      <td>416.0</td>\n",
       "      <td>Subscriber</td>\n",
       "      <td>0 days 01:15:34.000000000</td>\n",
       "    </tr>\n",
       "    <tr>\n",
       "      <th>2</th>\n",
       "      <td>25738.0</td>\n",
       "      <td>1962.0</td>\n",
       "      <td>520.0</td>\n",
       "      <td>40.759923</td>\n",
       "      <td>-73.976485</td>\n",
       "      <td>W 52 St &amp; 5 Ave</td>\n",
       "      <td>2.0</td>\n",
       "      <td>3150.0</td>\n",
       "      <td>40.775369</td>\n",
       "      <td>-73.948034</td>\n",
       "      <td>E 85 St &amp; York Ave</td>\n",
       "      <td>2017-01-01 10:42:20</td>\n",
       "      <td>2017-01-01 11:04:05</td>\n",
       "      <td>1304.0</td>\n",
       "      <td>Subscriber</td>\n",
       "      <td>0 days 01:31:23.000000000</td>\n",
       "    </tr>\n",
       "    <tr>\n",
       "      <th>3</th>\n",
       "      <td>25738.0</td>\n",
       "      <td>1962.0</td>\n",
       "      <td>3142.0</td>\n",
       "      <td>40.761227</td>\n",
       "      <td>-73.960940</td>\n",
       "      <td>1 Ave &amp; E 62 St</td>\n",
       "      <td>2.0</td>\n",
       "      <td>520.0</td>\n",
       "      <td>40.759923</td>\n",
       "      <td>-73.976485</td>\n",
       "      <td>W 52 St &amp; 5 Ave</td>\n",
       "      <td>2017-01-01 12:35:28</td>\n",
       "      <td>2017-01-01 12:44:34</td>\n",
       "      <td>545.0</td>\n",
       "      <td>Subscriber</td>\n",
       "      <td>0 days 00:46:42.000000000</td>\n",
       "    </tr>\n",
       "    <tr>\n",
       "      <th>4</th>\n",
       "      <td>25738.0</td>\n",
       "      <td>1962.0</td>\n",
       "      <td>3150.0</td>\n",
       "      <td>40.775369</td>\n",
       "      <td>-73.948034</td>\n",
       "      <td>E 85 St &amp; York Ave</td>\n",
       "      <td>2.0</td>\n",
       "      <td>3142.0</td>\n",
       "      <td>40.761227</td>\n",
       "      <td>-73.960940</td>\n",
       "      <td>1 Ave &amp; E 62 St</td>\n",
       "      <td>2017-01-01 13:31:16</td>\n",
       "      <td>2017-01-01 13:42:34</td>\n",
       "      <td>677.0</td>\n",
       "      <td>Subscriber</td>\n",
       "      <td>0 days 01:06:45.000000000</td>\n",
       "    </tr>\n",
       "  </tbody>\n",
       "</table>\n",
       "</div>"
      ],
      "text/plain": [
       "   Bike ID  Birth Year  End Station ID  End Station Latitude  \\\n",
       "0  25738.0      1985.0          3148.0             40.775655   \n",
       "1  25738.0      1952.0          3150.0             40.775369   \n",
       "2  25738.0      1962.0           520.0             40.759923   \n",
       "3  25738.0      1962.0          3142.0             40.761227   \n",
       "4  25738.0      1962.0          3150.0             40.775369   \n",
       "\n",
       "   End Station Longitude    End Station Name  Gender  Start Station ID  \\\n",
       "0             -73.950686     E 84 St & 1 Ave     1.0            3140.0   \n",
       "1             -73.948034  E 85 St & York Ave     1.0            3148.0   \n",
       "2             -73.976485     W 52 St & 5 Ave     2.0            3150.0   \n",
       "3             -73.960940     1 Ave & E 62 St     2.0             520.0   \n",
       "4             -73.948034  E 85 St & York Ave     2.0            3142.0   \n",
       "\n",
       "   Start Station Latitude  Start Station Longitude  Start Station Name  \\\n",
       "0               40.771404               -73.953517     1 Ave & E 78 St   \n",
       "1               40.775655               -73.950686     E 84 St & 1 Ave   \n",
       "2               40.775369               -73.948034  E 85 St & York Ave   \n",
       "3               40.759923               -73.976485     W 52 St & 5 Ave   \n",
       "4               40.761227               -73.960940     1 Ave & E 62 St   \n",
       "\n",
       "            Start Time            Stop Time  Trip Duration   User Type  \\\n",
       "0  2017-01-01 03:04:00  2017-01-01 03:06:43          163.0  Subscriber   \n",
       "1  2017-01-01 09:19:49  2017-01-01 09:26:46          416.0  Subscriber   \n",
       "2  2017-01-01 10:42:20  2017-01-01 11:04:05         1304.0  Subscriber   \n",
       "3  2017-01-01 12:35:28  2017-01-01 12:44:34          545.0  Subscriber   \n",
       "4  2017-01-01 13:31:16  2017-01-01 13:42:34          677.0  Subscriber   \n",
       "\n",
       "                     at_rest  \n",
       "0  0 days 06:13:06.000000000  \n",
       "1  0 days 01:15:34.000000000  \n",
       "2  0 days 01:31:23.000000000  \n",
       "3  0 days 00:46:42.000000000  \n",
       "4  0 days 01:06:45.000000000  "
      ]
     },
     "execution_count": 3,
     "metadata": {},
     "output_type": "execute_result"
    }
   ],
   "source": [
    "phil = pd.read_csv('phil.csv')\n",
    "phil.head()"
   ]
  },
  {
   "cell_type": "code",
   "execution_count": 4,
   "metadata": {},
   "outputs": [],
   "source": [
    "phil['Stop Time'] = pd.to_datetime(phil['Stop Time'])\n",
    "phil['Start Time'] = pd.to_datetime(phil['Start Time'])\n",
    "phil.at_rest = pd.to_timedelta(phil.at_rest)"
   ]
  },
  {
   "cell_type": "code",
   "execution_count": 7,
   "metadata": {},
   "outputs": [],
   "source": [
    "df_end = phil[['End Station Latitude', 'End Station Longitude', 'End Station Name', 'Stop Time']]"
   ]
  },
  {
   "cell_type": "code",
   "execution_count": 8,
   "metadata": {},
   "outputs": [],
   "source": [
    "df_start = phil[['Start Station Latitude', 'Start Station Longitude', 'Start Station Name', 'Start Time']]"
   ]
  },
  {
   "cell_type": "code",
   "execution_count": 14,
   "metadata": {},
   "outputs": [],
   "source": [
    "df_end = df_end.rename(index=str, columns={'End Station Latitude': 'Station Latitude', 'End Station Longitude': 'Station Longitude', 'End Station Name': 'Station Name', 'Stop Time': 'Time'})\n",
    "\n",
    "df_start = df_start.rename(index=str, columns={'Start Station Latitude': 'Station Latitude', 'Start Station Longitude': 'Station Longitude', 'Start Station Name': 'Station Name', 'Start Time': 'Time'})"
   ]
  },
  {
   "cell_type": "code",
   "execution_count": 18,
   "metadata": {},
   "outputs": [],
   "source": [
    "df_qgis = df_start.merge(df_end, how='outer')"
   ]
  },
  {
   "cell_type": "code",
   "execution_count": 19,
   "metadata": {},
   "outputs": [],
   "source": [
    "df_qgis.to_csv('phil_qgis.csv', index=False)"
   ]
  },
  {
   "cell_type": "code",
   "execution_count": 20,
   "metadata": {},
   "outputs": [
    {
     "data": {
      "text/plain": [
       "40.8120562"
      ]
     },
     "execution_count": 20,
     "metadata": {},
     "output_type": "execute_result"
    }
   ],
   "source": [
    "df_qgis['Station Latitude'].max()"
   ]
  },
  {
   "cell_type": "code",
   "execution_count": 21,
   "metadata": {},
   "outputs": [
    {
     "data": {
      "text/plain": [
       "40.646768"
      ]
     },
     "execution_count": 21,
     "metadata": {},
     "output_type": "execute_result"
    }
   ],
   "source": [
    "df_qgis['Station Latitude'].min()"
   ]
  },
  {
   "cell_type": "code",
   "execution_count": 23,
   "metadata": {},
   "outputs": [
    {
     "data": {
      "text/plain": [
       "count    5028.000000\n",
       "mean      -73.984525\n",
       "std         0.016404\n",
       "min       -74.017134\n",
       "25%       -73.994903\n",
       "50%       -73.986724\n",
       "75%       -73.976056\n",
       "max       -73.929891\n",
       "Name: Station Longitude, dtype: float64"
      ]
     },
     "execution_count": 23,
     "metadata": {},
     "output_type": "execute_result"
    }
   ],
   "source": [
    "df_qgis['Station Longitude'].describe()"
   ]
  },
  {
   "cell_type": "code",
   "execution_count": null,
   "metadata": {},
   "outputs": [],
   "source": []
  }
 ],
 "metadata": {
  "kernelspec": {
   "display_name": "Python 3",
   "language": "python",
   "name": "python3"
  },
  "language_info": {
   "codemirror_mode": {
    "name": "ipython",
    "version": 3
   },
   "file_extension": ".py",
   "mimetype": "text/x-python",
   "name": "python",
   "nbconvert_exporter": "python",
   "pygments_lexer": "ipython3",
   "version": "3.6.4"
  }
 },
 "nbformat": 4,
 "nbformat_minor": 2
}
