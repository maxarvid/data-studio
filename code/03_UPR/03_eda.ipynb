{
 "cells": [
  {
   "cell_type": "code",
   "execution_count": 2,
   "metadata": {},
   "outputs": [],
   "source": [
    "import pandas as pd\n",
    "import matplotlib.pyplot as plt\n",
    "\n",
    "%matplotlib inline"
   ]
  },
  {
   "cell_type": "code",
   "execution_count": 4,
   "metadata": {},
   "outputs": [
    {
     "data": {
      "text/html": [
       "<div>\n",
       "<style scoped>\n",
       "    .dataframe tbody tr th:only-of-type {\n",
       "        vertical-align: middle;\n",
       "    }\n",
       "\n",
       "    .dataframe tbody tr th {\n",
       "        vertical-align: top;\n",
       "    }\n",
       "\n",
       "    .dataframe thead th {\n",
       "        text-align: right;\n",
       "    }\n",
       "</style>\n",
       "<table border=\"1\" class=\"dataframe\">\n",
       "  <thead>\n",
       "    <tr style=\"text-align: right;\">\n",
       "      <th></th>\n",
       "      <th>SuR</th>\n",
       "      <th>Rgrp</th>\n",
       "      <th>Org</th>\n",
       "      <th>Recommendation</th>\n",
       "      <th>RS</th>\n",
       "      <th>Rgrp.1</th>\n",
       "      <th>Org.1</th>\n",
       "      <th>Response</th>\n",
       "      <th>Action</th>\n",
       "      <th>Issue</th>\n",
       "      <th>...</th>\n",
       "      <th>Rights of the Child</th>\n",
       "      <th>Sexual Orientation and Gender Identity</th>\n",
       "      <th>Special procedures</th>\n",
       "      <th>Statelessness</th>\n",
       "      <th>Technical assistance and cooperation</th>\n",
       "      <th>Torture and other CID treatment</th>\n",
       "      <th>Trafficking</th>\n",
       "      <th>Treaty bodies</th>\n",
       "      <th>UPR process</th>\n",
       "      <th>Womens rights</th>\n",
       "    </tr>\n",
       "  </thead>\n",
       "  <tbody>\n",
       "    <tr>\n",
       "      <th>0</th>\n",
       "      <td>Afghanistan</td>\n",
       "      <td>Asia</td>\n",
       "      <td>OIC</td>\n",
       "      <td>Enact legislation and take effective measures ...</td>\n",
       "      <td>Austria</td>\n",
       "      <td>WEOG</td>\n",
       "      <td>EU</td>\n",
       "      <td>Supported</td>\n",
       "      <td>5</td>\n",
       "      <td>Rights of the Child,Women's rights</td>\n",
       "      <td>...</td>\n",
       "      <td>1</td>\n",
       "      <td>0</td>\n",
       "      <td>0</td>\n",
       "      <td>0</td>\n",
       "      <td>0</td>\n",
       "      <td>0</td>\n",
       "      <td>0</td>\n",
       "      <td>0</td>\n",
       "      <td>0</td>\n",
       "      <td>0</td>\n",
       "    </tr>\n",
       "    <tr>\n",
       "      <th>1</th>\n",
       "      <td>Afghanistan</td>\n",
       "      <td>Asia</td>\n",
       "      <td>OIC</td>\n",
       "      <td>Establish a mechanism in order to systematical...</td>\n",
       "      <td>Austria</td>\n",
       "      <td>WEOG</td>\n",
       "      <td>EU</td>\n",
       "      <td>Supported</td>\n",
       "      <td>5</td>\n",
       "      <td>Human rights education and training,Justice</td>\n",
       "      <td>...</td>\n",
       "      <td>0</td>\n",
       "      <td>0</td>\n",
       "      <td>0</td>\n",
       "      <td>0</td>\n",
       "      <td>0</td>\n",
       "      <td>0</td>\n",
       "      <td>0</td>\n",
       "      <td>0</td>\n",
       "      <td>0</td>\n",
       "      <td>0</td>\n",
       "    </tr>\n",
       "    <tr>\n",
       "      <th>2</th>\n",
       "      <td>Afghanistan</td>\n",
       "      <td>Asia</td>\n",
       "      <td>OIC</td>\n",
       "      <td>Investigate thoroughly all acts of violence ag...</td>\n",
       "      <td>Austria</td>\n",
       "      <td>WEOG</td>\n",
       "      <td>EU</td>\n",
       "      <td>Supported</td>\n",
       "      <td>5</td>\n",
       "      <td>Human rights defenders,Women's rights</td>\n",
       "      <td>...</td>\n",
       "      <td>0</td>\n",
       "      <td>0</td>\n",
       "      <td>0</td>\n",
       "      <td>0</td>\n",
       "      <td>0</td>\n",
       "      <td>0</td>\n",
       "      <td>0</td>\n",
       "      <td>0</td>\n",
       "      <td>0</td>\n",
       "      <td>0</td>\n",
       "    </tr>\n",
       "    <tr>\n",
       "      <th>3</th>\n",
       "      <td>Afghanistan</td>\n",
       "      <td>Asia</td>\n",
       "      <td>OIC</td>\n",
       "      <td>Submit its delayed reports to the Committee ag...</td>\n",
       "      <td>Czechia</td>\n",
       "      <td>EEG</td>\n",
       "      <td>EU</td>\n",
       "      <td>Supported</td>\n",
       "      <td>5</td>\n",
       "      <td>Torture and other CID treatment,Treaty bodies</td>\n",
       "      <td>...</td>\n",
       "      <td>0</td>\n",
       "      <td>0</td>\n",
       "      <td>0</td>\n",
       "      <td>0</td>\n",
       "      <td>0</td>\n",
       "      <td>1</td>\n",
       "      <td>0</td>\n",
       "      <td>1</td>\n",
       "      <td>0</td>\n",
       "      <td>0</td>\n",
       "    </tr>\n",
       "    <tr>\n",
       "      <th>4</th>\n",
       "      <td>Afghanistan</td>\n",
       "      <td>Asia</td>\n",
       "      <td>OIC</td>\n",
       "      <td>Take extensive and timely steps to ensure the ...</td>\n",
       "      <td>Denmark</td>\n",
       "      <td>WEOG</td>\n",
       "      <td>EU</td>\n",
       "      <td>Supported</td>\n",
       "      <td>5</td>\n",
       "      <td>Freedom of the press</td>\n",
       "      <td>...</td>\n",
       "      <td>0</td>\n",
       "      <td>0</td>\n",
       "      <td>0</td>\n",
       "      <td>0</td>\n",
       "      <td>0</td>\n",
       "      <td>0</td>\n",
       "      <td>0</td>\n",
       "      <td>0</td>\n",
       "      <td>0</td>\n",
       "      <td>0</td>\n",
       "    </tr>\n",
       "  </tbody>\n",
       "</table>\n",
       "<p>5 rows × 67 columns</p>\n",
       "</div>"
      ],
      "text/plain": [
       "           SuR  Rgrp  Org                                     Recommendation  \\\n",
       "0  Afghanistan  Asia  OIC  Enact legislation and take effective measures ...   \n",
       "1  Afghanistan  Asia  OIC  Establish a mechanism in order to systematical...   \n",
       "2  Afghanistan  Asia  OIC  Investigate thoroughly all acts of violence ag...   \n",
       "3  Afghanistan  Asia  OIC  Submit its delayed reports to the Committee ag...   \n",
       "4  Afghanistan  Asia  OIC  Take extensive and timely steps to ensure the ...   \n",
       "\n",
       "        RS Rgrp.1 Org.1   Response  Action  \\\n",
       "0  Austria   WEOG    EU  Supported       5   \n",
       "1  Austria   WEOG    EU  Supported       5   \n",
       "2  Austria   WEOG    EU  Supported       5   \n",
       "3  Czechia    EEG    EU  Supported       5   \n",
       "4  Denmark   WEOG    EU  Supported       5   \n",
       "\n",
       "                                           Issue      ...        \\\n",
       "0             Rights of the Child,Women's rights      ...         \n",
       "1    Human rights education and training,Justice      ...         \n",
       "2          Human rights defenders,Women's rights      ...         \n",
       "3  Torture and other CID treatment,Treaty bodies      ...         \n",
       "4                           Freedom of the press      ...         \n",
       "\n",
       "   Rights of the Child  Sexual Orientation and Gender Identity  \\\n",
       "0                    1                                       0   \n",
       "1                    0                                       0   \n",
       "2                    0                                       0   \n",
       "3                    0                                       0   \n",
       "4                    0                                       0   \n",
       "\n",
       "   Special procedures  Statelessness  Technical assistance and cooperation  \\\n",
       "0                   0              0                                     0   \n",
       "1                   0              0                                     0   \n",
       "2                   0              0                                     0   \n",
       "3                   0              0                                     0   \n",
       "4                   0              0                                     0   \n",
       "\n",
       "   Torture and other CID treatment  Trafficking  Treaty bodies  UPR process  \\\n",
       "0                                0            0              0            0   \n",
       "1                                0            0              0            0   \n",
       "2                                0            0              0            0   \n",
       "3                                1            0              1            0   \n",
       "4                                0            0              0            0   \n",
       "\n",
       "   Womens rights  \n",
       "0              0  \n",
       "1              0  \n",
       "2              0  \n",
       "3              0  \n",
       "4              0  \n",
       "\n",
       "[5 rows x 67 columns]"
      ]
     },
     "execution_count": 4,
     "metadata": {},
     "output_type": "execute_result"
    }
   ],
   "source": [
    "df = pd.read_csv('data_cleaned.csv')\n",
    "df.head()"
   ]
  },
  {
   "cell_type": "code",
   "execution_count": 6,
   "metadata": {},
   "outputs": [],
   "source": [
    "df_privacy = df[df.Privacy == 1]"
   ]
  },
  {
   "cell_type": "code",
   "execution_count": 15,
   "metadata": {},
   "outputs": [
    {
     "data": {
      "text/plain": [
       "<matplotlib.axes._subplots.AxesSubplot at 0x1107960b8>"
      ]
     },
     "execution_count": 15,
     "metadata": {},
     "output_type": "execute_result"
    },
    {
     "data": {
      "image/png": "[encoded data removed]",
      "text/plain": [
       "<Figure size 432x288 with 1 Axes>"
      ]
     },
     "metadata": {},
     "output_type": "display_data"
    }
   ],
   "source": [
    "df_privacy.SuR.value_counts().head().sort_values().plot(kind='barh')"
   ]
  },
  {
   "cell_type": "code",
   "execution_count": 18,
   "metadata": {},
   "outputs": [
    {
     "data": {
      "text/plain": [
       "<matplotlib.axes._subplots.AxesSubplot at 0x11315afd0>"
      ]
     },
     "execution_count": 18,
     "metadata": {},
     "output_type": "execute_result"
    },
    {
     "data": {
      "image/png": "[encoded data removed]",
      "text/plain": [
       "<Figure size 432x288 with 1 Axes>"
      ]
     },
     "metadata": {},
     "output_type": "display_data"
    }
   ],
   "source": [
    "df_privacy.RS.value_counts().head().sort_values().plot(kind='barh')"
   ]
  },
  {
   "cell_type": "code",
   "execution_count": 27,
   "metadata": {},
   "outputs": [
    {
     "data": {
      "text/plain": [
       "<matplotlib.axes._subplots.AxesSubplot at 0x10b2f1be0>"
      ]
     },
     "execution_count": 27,
     "metadata": {},
     "output_type": "execute_result"
    },
    {
     "data": {
      "image/png": "[encoded data removed]",
      "text/plain": [
       "<Figure size 432x288 with 1 Axes>"
      ]
     },
     "metadata": {},
     "output_type": "display_data"
    }
   ],
   "source": [
    "df_privacy.groupby('Response').SuR.value_counts().plot(kind='barh')"
   ]
  },
  {
   "cell_type": "code",
   "execution_count": 30,
   "metadata": {},
   "outputs": [
    {
     "data": {
      "text/plain": [
       "Response   SuR                        \n",
       "Noted      Israel                         364\n",
       "           DPR Korea                      322\n",
       "           United States                  310\n",
       "           Myanmar                        276\n",
       "           Iran                           254\n",
       "           India                          240\n",
       "           Netherlands                    217\n",
       "           Philippines                    214\n",
       "           Malaysia                       203\n",
       "           United Kingdom                 197\n",
       "           Rwanda                         192\n",
       "           Singapore                      188\n",
       "           Eritrea                        184\n",
       "           Brunei Darussalam              180\n",
       "           Bhutan                         172\n",
       "           Zimbabwe                       169\n",
       "           Oman                           167\n",
       "           Uzbekistan                     167\n",
       "           Cuba                           166\n",
       "           Lebanon                        165\n",
       "           Gambia                         163\n",
       "           China                          160\n",
       "           Trinidad and Tobago\\n          160\n",
       "           Australia                      158\n",
       "           Belarus                        156\n",
       "           Algeria                        155\n",
       "           Kuwait                         151\n",
       "           St Kitts & Nevis               144\n",
       "           Uganda                         143\n",
       "           Tanzania                       142\n",
       "                                         ... \n",
       "Supported  United Arab Emirates           149\n",
       "           Switzerland                    147\n",
       "           Argentina                      144\n",
       "           Dominica                       140\n",
       "           France                         136\n",
       "           St Vincent & the Grenadines    132\n",
       "           Dominican Republic             129\n",
       "           Micronesia                     128\n",
       "           Trinidad and Tobago\\n          127\n",
       "           Grenada                        125\n",
       "           Peru                           125\n",
       "           Tuvalu                         117\n",
       "           DPR Korea                      114\n",
       "           Liechtenstein                  113\n",
       "           Kiribati                       112\n",
       "           Luxembourg                     112\n",
       "           Tonga                          112\n",
       "           Belize                         109\n",
       "           Gabon                          105\n",
       "           Republic of Korea              104\n",
       "           St Kitts & Nevis               102\n",
       "           Barbados                        99\n",
       "           Zambia                          99\n",
       "           Antigua and Barbuda             96\n",
       "           Bahamas                         90\n",
       "           San Marino                      85\n",
       "           Andorra                         84\n",
       "           Malta                           77\n",
       "           Monaco                          75\n",
       "           Israel                          60\n",
       "Name: SuR, Length: 386, dtype: int64"
      ]
     },
     "execution_count": 30,
     "metadata": {},
     "output_type": "execute_result"
    }
   ],
   "source": [
    "df.groupby('Response').SuR.value_counts()"
   ]
  },
  {
   "cell_type": "code",
   "execution_count": 44,
   "metadata": {},
   "outputs": [],
   "source": [
    "supported = df[df.Response == 'Supported'].groupby('SuR').Response.value_counts()"
   ]
  },
  {
   "cell_type": "code",
   "execution_count": 45,
   "metadata": {},
   "outputs": [],
   "source": [
    "noted = df[df.Response == 'Noted'].groupby('SuR').Response.value_counts()"
   ]
  },
  {
   "cell_type": "code",
   "execution_count": 50,
   "metadata": {},
   "outputs": [
    {
     "data": {
      "text/plain": [
       "SuR                           Response \n",
       "Israel                        Supported     60\n",
       "Monaco                        Supported     75\n",
       "Malta                         Supported     77\n",
       "Andorra                       Supported     84\n",
       "San Marino                    Supported     85\n",
       "Bahamas                       Supported     90\n",
       "Antigua and Barbuda           Supported     96\n",
       "Zambia                        Supported     99\n",
       "Barbados                      Supported     99\n",
       "St Kitts & Nevis              Supported    102\n",
       "Republic of Korea             Supported    104\n",
       "Gabon                         Supported    105\n",
       "Belize                        Supported    109\n",
       "Luxembourg                    Supported    112\n",
       "Tonga                         Supported    112\n",
       "Kiribati                      Supported    112\n",
       "Liechtenstein                 Supported    113\n",
       "DPR Korea                     Supported    114\n",
       "Tuvalu                        Supported    117\n",
       "Peru                          Supported    125\n",
       "Grenada                       Supported    125\n",
       "Trinidad and Tobago\\n         Supported    127\n",
       "Micronesia                    Supported    128\n",
       "Dominican Republic            Supported    129\n",
       "St Vincent & the Grenadines   Supported    132\n",
       "France                        Supported    136\n",
       "Dominica                      Supported    140\n",
       "Argentina                     Supported    144\n",
       "Switzerland                   Supported    147\n",
       "United Arab Emirates          Supported    149\n",
       "                                          ... \n",
       "Algeria                       Supported    310\n",
       "Iraq                          Supported    311\n",
       "Haiti                         Supported    312\n",
       "Armenia                       Supported    313\n",
       "Viet Nam                      Supported    314\n",
       "Belgium                       Supported    316\n",
       "South Africa                  Supported    317\n",
       "Italy                         Supported    319\n",
       "Moldova                       Supported    320\n",
       "Democratic Republic of Congo  Supported    322\n",
       "Hungary                       Supported    330\n",
       "Ecuador                       Supported    331\n",
       "Paraguay                      Supported    331\n",
       "Georgia                       Supported    332\n",
       "Somalia                       Supported    335\n",
       "Ireland                       Supported    335\n",
       "Turkey                        Supported    336\n",
       "Kenya                         Supported    336\n",
       "Indonesia                     Supported    340\n",
       "Mexico                        Supported    341\n",
       "Thailand                      Supported    343\n",
       "Mozambique                    Supported    347\n",
       "Angola                        Supported    350\n",
       "United States                 Supported    358\n",
       "Egypt                         Supported    359\n",
       "Tunisia                       Supported    361\n",
       "Morocco                       Supported    361\n",
       "Sudan                         Supported    364\n",
       "Cuba                          Supported    368\n",
       "Brazil                        Supported    438\n",
       "Name: Response, Length: 193, dtype: int64"
      ]
     },
     "execution_count": 50,
     "metadata": {},
     "output_type": "execute_result"
    }
   ],
   "source": [
    "supported.sort_values()"
   ]
  },
  {
   "cell_type": "code",
   "execution_count": 55,
   "metadata": {},
   "outputs": [
    {
     "data": {
      "text/plain": [
       "SuR\n",
       "Afghanistan                 371\n",
       "Albania                     277\n",
       "Algeria                     465\n",
       "Andorra                     163\n",
       "Angola                      392\n",
       "Antigua and Barbuda         217\n",
       "Argentina                   174\n",
       "Armenia                     360\n",
       "Australia                   452\n",
       "Austria                     409\n",
       "Azerbaijan                  258\n",
       "Bahamas                     186\n",
       "Bahrain                     404\n",
       "Bangladesh                  332\n",
       "Barbados                    181\n",
       "Belarus                     441\n",
       "Belgium                     421\n",
       "Belize                      160\n",
       "Benin                       164\n",
       "Bhutan                      371\n",
       "Bolivia                     315\n",
       "Bosnia and Herzegovina\\n    293\n",
       "Botswana                    277\n",
       "Brazil                      443\n",
       "Brunei Darussalam           331\n",
       "Bulgaria                    327\n",
       "Burkina Faso                252\n",
       "Burundi                     278\n",
       "Cambodia                    343\n",
       "Cameroon                    274\n",
       "                           ... \n",
       "Sudan                       503\n",
       "Suriname                    266\n",
       "Swaziland                   341\n",
       "Sweden                      378\n",
       "Switzerland                 231\n",
       "Syria                       421\n",
       "Tajikistan                  381\n",
       "Tanzania                    395\n",
       "Thailand                    474\n",
       "Timor-Leste                 307\n",
       "Togo                        348\n",
       "Tonga                       148\n",
       "Trinidad and Tobago\\n       287\n",
       "Tunisia                     441\n",
       "Turkey                      455\n",
       "Turkmenistan                275\n",
       "Tuvalu                      148\n",
       "Uganda                      421\n",
       "Ukraine                     191\n",
       "United Arab Emirates        279\n",
       "United Kingdom              406\n",
       "United States               668\n",
       "Uruguay                     286\n",
       "Uzbekistan                  346\n",
       "Vanuatu                     204\n",
       "Venezuela                   427\n",
       "Viet Nam                    428\n",
       "Yemen                       344\n",
       "Zambia                      165\n",
       "Zimbabwe                    443\n",
       "Name: Response, Length: 193, dtype: int64"
      ]
     },
     "execution_count": 55,
     "metadata": {},
     "output_type": "execute_result"
    }
   ],
   "source": [
    "df.groupby('SuR').Response.count()"
   ]
  },
  {
   "cell_type": "code",
   "execution_count": 58,
   "metadata": {},
   "outputs": [
    {
     "data": {
      "text/plain": [
       "SuR\n",
       "Afghanistan                 371\n",
       "Albania                     277\n",
       "Algeria                     465\n",
       "Andorra                     163\n",
       "Angola                      392\n",
       "Antigua and Barbuda         217\n",
       "Argentina                   174\n",
       "Armenia                     360\n",
       "Australia                   452\n",
       "Austria                     409\n",
       "Azerbaijan                  258\n",
       "Bahamas                     186\n",
       "Bahrain                     404\n",
       "Bangladesh                  332\n",
       "Barbados                    181\n",
       "Belarus                     441\n",
       "Belgium                     421\n",
       "Belize                      160\n",
       "Benin                       164\n",
       "Bhutan                      371\n",
       "Bolivia                     315\n",
       "Bosnia and Herzegovina\\n    293\n",
       "Botswana                    277\n",
       "Brazil                      443\n",
       "Brunei Darussalam           331\n",
       "Bulgaria                    327\n",
       "Burkina Faso                252\n",
       "Burundi                     278\n",
       "Cambodia                    343\n",
       "Cameroon                    274\n",
       "                           ... \n",
       "Sudan                       503\n",
       "Suriname                    266\n",
       "Swaziland                   341\n",
       "Sweden                      378\n",
       "Switzerland                 231\n",
       "Syria                       421\n",
       "Tajikistan                  381\n",
       "Tanzania                    395\n",
       "Thailand                    474\n",
       "Timor-Leste                 307\n",
       "Togo                        348\n",
       "Tonga                       148\n",
       "Trinidad and Tobago\\n       287\n",
       "Tunisia                     441\n",
       "Turkey                      455\n",
       "Turkmenistan                275\n",
       "Tuvalu                      148\n",
       "Uganda                      421\n",
       "Ukraine                     191\n",
       "United Arab Emirates        279\n",
       "United Kingdom              406\n",
       "United States               668\n",
       "Uruguay                     286\n",
       "Uzbekistan                  346\n",
       "Vanuatu                     204\n",
       "Venezuela                   427\n",
       "Viet Nam                    428\n",
       "Yemen                       344\n",
       "Zambia                      165\n",
       "Zimbabwe                    443\n",
       "Name: Response, Length: 193, dtype: int64"
      ]
     },
     "execution_count": 58,
     "metadata": {},
     "output_type": "execute_result"
    }
   ],
   "source": [
    "df.groupby('SuR').Response.count()"
   ]
  },
  {
   "cell_type": "code",
   "execution_count": 62,
   "metadata": {},
   "outputs": [
    {
     "data": {
      "text/plain": [
       "SuR\n",
       "Afghanistan                 307\n",
       "Albania                     255\n",
       "Algeria                     310\n",
       "Andorra                      84\n",
       "Angola                      350\n",
       "Antigua and Barbuda          96\n",
       "Argentina                   144\n",
       "Armenia                     313\n",
       "Australia                   294\n",
       "Austria                     300\n",
       "Azerbaijan                  220\n",
       "Bahamas                      90\n",
       "Bahrain                     308\n",
       "Bangladesh                  255\n",
       "Barbados                     99\n",
       "Belarus                     285\n",
       "Belgium                     316\n",
       "Belize                      109\n",
       "Benin                       157\n",
       "Bhutan                      199\n",
       "Bolivia                     299\n",
       "Bosnia and Herzegovina\\n    217\n",
       "Botswana                    163\n",
       "Brazil                      438\n",
       "Brunei Darussalam           151\n",
       "Bulgaria                    302\n",
       "Burkina Faso                205\n",
       "Burundi                     197\n",
       "Cambodia                    301\n",
       "Cameroon                    194\n",
       "                           ... \n",
       "Sudan                       364\n",
       "Suriname                    200\n",
       "Swaziland                   247\n",
       "Sweden                      263\n",
       "Switzerland                 147\n",
       "Syria                       285\n",
       "Tajikistan                  280\n",
       "Tanzania                    253\n",
       "Thailand                    343\n",
       "Timor-Leste                 291\n",
       "Togo                        292\n",
       "Tonga                       112\n",
       "Trinidad and Tobago\\n       127\n",
       "Tunisia                     361\n",
       "Turkey                      336\n",
       "Turkmenistan                205\n",
       "Tuvalu                      117\n",
       "Uganda                      278\n",
       "Ukraine                     153\n",
       "United Arab Emirates        149\n",
       "United Kingdom              209\n",
       "United States               358\n",
       "Uruguay                     285\n",
       "Uzbekistan                  179\n",
       "Vanuatu                     178\n",
       "Venezuela                   290\n",
       "Viet Nam                    314\n",
       "Yemen                       297\n",
       "Zambia                       99\n",
       "Zimbabwe                    274\n",
       "Name: Response, Length: 193, dtype: int64"
      ]
     },
     "execution_count": 62,
     "metadata": {},
     "output_type": "execute_result"
    }
   ],
   "source": [
    "df[df.Response == 'Supported'].groupby('SuR').Response.count()"
   ]
  },
  {
   "cell_type": "code",
   "execution_count": 63,
   "metadata": {},
   "outputs": [
    {
     "data": {
      "text/plain": [
       "SuR\n",
       "Afghanistan                 0.827493\n",
       "Albania                     0.920578\n",
       "Algeria                     0.666667\n",
       "Andorra                     0.515337\n",
       "Angola                      0.892857\n",
       "Antigua and Barbuda         0.442396\n",
       "Argentina                   0.827586\n",
       "Armenia                     0.869444\n",
       "Australia                   0.650442\n",
       "Austria                     0.733496\n",
       "Azerbaijan                  0.852713\n",
       "Bahamas                     0.483871\n",
       "Bahrain                     0.762376\n",
       "Bangladesh                  0.768072\n",
       "Barbados                    0.546961\n",
       "Belarus                     0.646259\n",
       "Belgium                     0.750594\n",
       "Belize                      0.681250\n",
       "Benin                       0.957317\n",
       "Bhutan                      0.536388\n",
       "Bolivia                     0.949206\n",
       "Bosnia and Herzegovina\\n    0.740614\n",
       "Botswana                    0.588448\n",
       "Brazil                      0.988713\n",
       "Brunei Darussalam           0.456193\n",
       "Bulgaria                    0.923547\n",
       "Burkina Faso                0.813492\n",
       "Burundi                     0.708633\n",
       "Cambodia                    0.877551\n",
       "Cameroon                    0.708029\n",
       "                              ...   \n",
       "Sudan                       0.723658\n",
       "Suriname                    0.751880\n",
       "Swaziland                   0.724340\n",
       "Sweden                      0.695767\n",
       "Switzerland                 0.636364\n",
       "Syria                       0.676960\n",
       "Tajikistan                  0.734908\n",
       "Tanzania                    0.640506\n",
       "Thailand                    0.723629\n",
       "Timor-Leste                 0.947883\n",
       "Togo                        0.839080\n",
       "Tonga                       0.756757\n",
       "Trinidad and Tobago\\n       0.442509\n",
       "Tunisia                     0.818594\n",
       "Turkey                      0.738462\n",
       "Turkmenistan                0.745455\n",
       "Tuvalu                      0.790541\n",
       "Uganda                      0.660333\n",
       "Ukraine                     0.801047\n",
       "United Arab Emirates        0.534050\n",
       "United Kingdom              0.514778\n",
       "United States               0.535928\n",
       "Uruguay                     0.996503\n",
       "Uzbekistan                  0.517341\n",
       "Vanuatu                     0.872549\n",
       "Venezuela                   0.679157\n",
       "Viet Nam                    0.733645\n",
       "Yemen                       0.863372\n",
       "Zambia                      0.600000\n",
       "Zimbabwe                    0.618510\n",
       "Name: Response, Length: 193, dtype: float64"
      ]
     },
     "execution_count": 63,
     "metadata": {},
     "output_type": "execute_result"
    }
   ],
   "source": [
    "df[df.Response == 'Supported'].groupby('SuR').Response.count()/df.groupby('SuR').Response.count()"
   ]
  },
  {
   "cell_type": "code",
   "execution_count": 64,
   "metadata": {},
   "outputs": [],
   "source": [
    "supported_recs_rate = df[df.Response == 'Supported'].groupby('SuR').Response.count()/df.groupby('SuR').Response.count()"
   ]
  },
  {
   "cell_type": "code",
   "execution_count": 70,
   "metadata": {},
   "outputs": [
    {
     "data": {
      "text/plain": [
       "<matplotlib.axes._subplots.AxesSubplot at 0x10f4c2908>"
      ]
     },
     "execution_count": 70,
     "metadata": {},
     "output_type": "execute_result"
    },
    {
     "data": {
      "image/png": "[encoded data removed]",
      "text/plain": [
       "<Figure size 432x288 with 1 Axes>"
      ]
     },
     "metadata": {},
     "output_type": "display_data"
    }
   ],
   "source": [
    "supported_recs_rate.sort_values().head(10).plot(kind='barh')"
   ]
  },
  {
   "cell_type": "code",
   "execution_count": 69,
   "metadata": {},
   "outputs": [
    {
     "data": {
      "text/plain": [
       "SuR\n",
       "Uruguay                0.996503\n",
       "Brazil                 0.988713\n",
       "Paraguay               0.982196\n",
       "Sao Tome & Principe    0.975610\n",
       "Niger                  0.975089\n",
       "Montenegro             0.972527\n",
       "Cape Verde             0.971098\n",
       "Guinea Bissau          0.966543\n",
       "Chile                  0.964744\n",
       "Benin                  0.957317\n",
       "Name: Response, dtype: float64"
      ]
     },
     "execution_count": 69,
     "metadata": {},
     "output_type": "execute_result"
    }
   ],
   "source": [
    "supported_recs_rate.sort_values(ascending=False).head(10)"
   ]
  },
  {
   "cell_type": "code",
   "execution_count": null,
   "metadata": {},
   "outputs": [],
   "source": []
  }
 ],
 "metadata": {
  "kernelspec": {
   "display_name": "Python 3",
   "language": "python",
   "name": "python3"
  },
  "language_info": {
   "codemirror_mode": {
    "name": "ipython",
    "version": 3
   },
   "file_extension": ".py",
   "mimetype": "text/x-python",
   "name": "python",
   "nbconvert_exporter": "python",
   "pygments_lexer": "ipython3",
   "version": "3.6.4"
  }
 },
 "nbformat": 4,
 "nbformat_minor": 2
}
